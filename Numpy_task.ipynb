{
  "cells": [
    {
      "cell_type": "markdown",
      "metadata": {
        "id": "zmnCZeGSuFIY"
      },
      "source": [
        "# Numpy\n",
        "\n"
      ]
    },
    {
      "cell_type": "markdown",
      "metadata": {
        "id": "Mhi2qgjcuFIb"
      },
      "source": [
        "#### 1. Import the numpy package under the name `np` (★☆☆) \n",
        "(**hint**: import … as …)"
      ]
    },
    {
      "cell_type": "code",
      "execution_count": null,
      "metadata": {
        "collapsed": true,
        "id": "G4gdGcfuuFIc"
      },
      "outputs": [],
      "source": [
        "import numpy as np"
      ]
    },
    {
      "cell_type": "markdown",
      "metadata": {
        "id": "uM1rGZDguFId"
      },
      "source": [
        "#### 2. Print the numpy version and the configuration (★☆☆) \n",
        "(**hint**: np.\\_\\_version\\_\\_, np.show\\_config)"
      ]
    },
    {
      "cell_type": "code",
      "execution_count": null,
      "metadata": {
        "id": "gh399KxEuFId",
        "colab": {
          "base_uri": "https://localhost:8080/"
        },
        "outputId": "9a3c58a5-4218-4441-e400-8adc9eb0fb32"
      },
      "outputs": [
        {
          "output_type": "stream",
          "name": "stdout",
          "text": [
            "blas_mkl_info:\n",
            "  NOT AVAILABLE\n",
            "blis_info:\n",
            "  NOT AVAILABLE\n",
            "openblas_info:\n",
            "    libraries = ['openblas', 'openblas']\n",
            "    library_dirs = ['/usr/local/lib']\n",
            "    language = c\n",
            "    define_macros = [('HAVE_CBLAS', None)]\n",
            "    runtime_library_dirs = ['/usr/local/lib']\n",
            "blas_opt_info:\n",
            "    libraries = ['openblas', 'openblas']\n",
            "    library_dirs = ['/usr/local/lib']\n",
            "    language = c\n",
            "    define_macros = [('HAVE_CBLAS', None)]\n",
            "    runtime_library_dirs = ['/usr/local/lib']\n",
            "lapack_mkl_info:\n",
            "  NOT AVAILABLE\n",
            "openblas_lapack_info:\n",
            "    libraries = ['openblas', 'openblas']\n",
            "    library_dirs = ['/usr/local/lib']\n",
            "    language = c\n",
            "    define_macros = [('HAVE_CBLAS', None)]\n",
            "    runtime_library_dirs = ['/usr/local/lib']\n",
            "lapack_opt_info:\n",
            "    libraries = ['openblas', 'openblas']\n",
            "    library_dirs = ['/usr/local/lib']\n",
            "    language = c\n",
            "    define_macros = [('HAVE_CBLAS', None)]\n",
            "    runtime_library_dirs = ['/usr/local/lib']\n",
            "Supported SIMD extensions in this NumPy install:\n",
            "    baseline = SSE,SSE2,SSE3\n",
            "    found = SSSE3,SSE41,POPCNT,SSE42,AVX,F16C,FMA3,AVX2\n",
            "    not found = AVX512F,AVX512CD,AVX512_KNL,AVX512_KNM,AVX512_SKX,AVX512_CLX,AVX512_CNL,AVX512_ICL\n"
          ]
        }
      ],
      "source": [
        "import numpy as np\n",
        "np.__version__\n",
        "np.show_config()"
      ]
    },
    {
      "cell_type": "markdown",
      "metadata": {
        "id": "8RIoEMzHuFId"
      },
      "source": [
        "#### 3. Create a null vector of size 10 (★☆☆) \n",
        "(**hint**: np.zeros)"
      ]
    },
    {
      "cell_type": "code",
      "execution_count": null,
      "metadata": {
        "id": "yzES5wY2uFIe",
        "colab": {
          "base_uri": "https://localhost:8080/"
        },
        "outputId": "b110daaa-fa70-49e8-c05d-e0c555652fd1"
      },
      "outputs": [
        {
          "output_type": "stream",
          "name": "stdout",
          "text": [
            "[0. 0. 0. 0. 0. 0. 0. 0. 0. 0.]\n"
          ]
        }
      ],
      "source": [
        "import numpy as np\n",
        "zer=np.zeros(10)\n",
        "print(zer)"
      ]
    },
    {
      "cell_type": "markdown",
      "metadata": {
        "id": "8G73O1LiuFIe"
      },
      "source": [
        "#### 4.  How to find the memory size of any array (★☆☆) \n",
        "(**hint**: size, itemsize)"
      ]
    },
    {
      "cell_type": "code",
      "execution_count": null,
      "metadata": {
        "id": "WIfyh_j2uFIf",
        "colab": {
          "base_uri": "https://localhost:8080/"
        },
        "outputId": "4c776220-1ccb-422b-86ce-0a1e5db29940"
      },
      "outputs": [
        {
          "output_type": "stream",
          "name": "stdout",
          "text": [
            "224\n",
            "224 bytes\n"
          ]
        }
      ],
      "source": [
        "import numpy as np\n",
        "n = np.zeros((7,4))\n",
        "print(n.size*n.itemsize)\n",
        "print(\"%d bytes\" %(n.size * n.itemsize))\n"
      ]
    },
    {
      "cell_type": "markdown",
      "metadata": {
        "id": "rv4Nugf8uFIg"
      },
      "source": [
        "#### 5.  How to get the documentation of the numpy add function from the command line? (★☆☆) \n",
        "(**hint**: np.info)"
      ]
    },
    {
      "cell_type": "code",
      "execution_count": null,
      "metadata": {
        "id": "TAJoYSGXuFIg",
        "colab": {
          "base_uri": "https://localhost:8080/"
        },
        "outputId": "99bced80-ffaa-49ed-801e-dde397a9930f"
      },
      "outputs": [
        {
          "output_type": "stream",
          "name": "stdout",
          "text": [
            "add(x1, x2, /, out=None, *, where=True, casting='same_kind', order='K', dtype=None, subok=True[, signature, extobj])\n",
            "\n",
            "Add arguments element-wise.\n",
            "\n",
            "Parameters\n",
            "----------\n",
            "x1, x2 : array_like\n",
            "    The arrays to be added.\n",
            "    If ``x1.shape != x2.shape``, they must be broadcastable to a common\n",
            "    shape (which becomes the shape of the output).\n",
            "out : ndarray, None, or tuple of ndarray and None, optional\n",
            "    A location into which the result is stored. If provided, it must have\n",
            "    a shape that the inputs broadcast to. If not provided or None,\n",
            "    a freshly-allocated array is returned. A tuple (possible only as a\n",
            "    keyword argument) must have length equal to the number of outputs.\n",
            "where : array_like, optional\n",
            "    This condition is broadcast over the input. At locations where the\n",
            "    condition is True, the `out` array will be set to the ufunc result.\n",
            "    Elsewhere, the `out` array will retain its original value.\n",
            "    Note that if an uninitialized `out` array is created via the default\n",
            "    ``out=None``, locations within it where the condition is False will\n",
            "    remain uninitialized.\n",
            "**kwargs\n",
            "    For other keyword-only arguments, see the\n",
            "    :ref:`ufunc docs <ufuncs.kwargs>`.\n",
            "\n",
            "Returns\n",
            "-------\n",
            "add : ndarray or scalar\n",
            "    The sum of `x1` and `x2`, element-wise.\n",
            "    This is a scalar if both `x1` and `x2` are scalars.\n",
            "\n",
            "Notes\n",
            "-----\n",
            "Equivalent to `x1` + `x2` in terms of array broadcasting.\n",
            "\n",
            "Examples\n",
            "--------\n",
            ">>> np.add(1.0, 4.0)\n",
            "5.0\n",
            ">>> x1 = np.arange(9.0).reshape((3, 3))\n",
            ">>> x2 = np.arange(3.0)\n",
            ">>> np.add(x1, x2)\n",
            "array([[  0.,   2.,   4.],\n",
            "       [  3.,   5.,   7.],\n",
            "       [  6.,   8.,  10.]])\n",
            "\n",
            "The ``+`` operator can be used as a shorthand for ``np.add`` on ndarrays.\n",
            "\n",
            ">>> x1 = np.arange(9.0).reshape((3, 3))\n",
            ">>> x2 = np.arange(3.0)\n",
            ">>> x1 + x2\n",
            "array([[ 0.,  2.,  4.],\n",
            "       [ 3.,  5.,  7.],\n",
            "       [ 6.,  8., 10.]])\n"
          ]
        }
      ],
      "source": [
        "import numpy as np\n",
        "np.info(np.add)"
      ]
    },
    {
      "cell_type": "markdown",
      "metadata": {
        "id": "D60qmE9cuFIh"
      },
      "source": [
        "#### 6.  Create a null vector of size 10 but the fifth value which is 1 (★☆☆) \n",
        "(**hint**: array\\[4\\])"
      ]
    },
    {
      "cell_type": "code",
      "execution_count": null,
      "metadata": {
        "id": "xcEwkSHzuFIh",
        "colab": {
          "base_uri": "https://localhost:8080/"
        },
        "outputId": "eac2aeb3-8f90-425f-f230-37467c054812"
      },
      "outputs": [
        {
          "output_type": "execute_result",
          "data": {
            "text/plain": [
              "array([0., 0., 0., 0., 0., 1., 0., 0., 0., 0.])"
            ]
          },
          "metadata": {},
          "execution_count": 18
        }
      ],
      "source": [
        "import numpy as np\n",
        "z=np.zeros(10)\n",
        "z[5]=1\n",
        "z"
      ]
    },
    {
      "cell_type": "markdown",
      "metadata": {
        "id": "ihaEAfKsuFIh"
      },
      "source": [
        "#### 7.  Create a vector with values ranging from 10 to 49 (★☆☆) \n",
        "(**hint**: np.arange)"
      ]
    },
    {
      "cell_type": "code",
      "execution_count": null,
      "metadata": {
        "id": "ciVhcbKbuFIi",
        "colab": {
          "base_uri": "https://localhost:8080/"
        },
        "outputId": "45c7e4cb-28c0-4ae5-bd85-a22993792f8d"
      },
      "outputs": [
        {
          "output_type": "stream",
          "name": "stdout",
          "text": [
            "[10 11 12 13 14 15 16 17 18 19 20 21 22 23 24 25 26 27 28 29 30 31 32 33\n",
            " 34 35 36 37 38 39 40 41 42 43 44 45 46 47 48 49]\n"
          ]
        }
      ],
      "source": [
        "import numpy as np\n",
        "z=np.arange(10,49+1)\n",
        "print(z)"
      ]
    },
    {
      "cell_type": "markdown",
      "metadata": {
        "id": "JLrRA3xLuFIi"
      },
      "source": [
        "#### 8.  Reverse a vector (first element becomes last) (★☆☆) \n",
        "(**hint**: array\\[::-1\\])"
      ]
    },
    {
      "cell_type": "code",
      "execution_count": null,
      "metadata": {
        "id": "Y17zZxNpuFIi",
        "colab": {
          "base_uri": "https://localhost:8080/"
        },
        "outputId": "789974ce-6f9c-4680-fc0f-6ae2ce617019"
      },
      "outputs": [
        {
          "output_type": "stream",
          "name": "stdout",
          "text": [
            "[49 48 47 46 45 44 43 42 41 40 39 38 37 36 35 34 33 32 31 30 29 28 27 26\n",
            " 25 24 23 22 21 20 19 18 17 16 15 14 13 12 11 10  9  8  7  6  5  4  3  2\n",
            "  1]\n"
          ]
        }
      ],
      "source": [
        "import numpy as np\n",
        "z=np.arange(1,49+1)[::-1]\n",
        "print(z)"
      ]
    },
    {
      "cell_type": "markdown",
      "metadata": {
        "id": "gq9Ccu95uFIi"
      },
      "source": [
        "#### 9.  Create a 3x3 matrix with values ranging from 0 to 8 (★☆☆) \n",
        "(**hint**: reshape)"
      ]
    },
    {
      "cell_type": "code",
      "execution_count": null,
      "metadata": {
        "id": "n9vHcg0NuFIj",
        "colab": {
          "base_uri": "https://localhost:8080/"
        },
        "outputId": "84c673f9-52fd-4f0f-f943-408011aa862b"
      },
      "outputs": [
        {
          "output_type": "execute_result",
          "data": {
            "text/plain": [
              "array([[0, 1, 2],\n",
              "       [3, 4, 5],\n",
              "       [6, 7, 8]])"
            ]
          },
          "metadata": {},
          "execution_count": 30
        }
      ],
      "source": [
        "import numpy as np\n",
        "ap = np.array([0,1,2,3,4,5,6,7,8])\n",
        "z=ap.reshape(3,3)\n",
        "z"
      ]
    },
    {
      "cell_type": "markdown",
      "metadata": {
        "id": "1YjoQdjIuFIj"
      },
      "source": [
        "#### 10. Find indices of non-zero elements from \\[1,2,0,0,4,0\\] (★☆☆) \n",
        "(**hint**: np.nonzero)"
      ]
    },
    {
      "cell_type": "code",
      "execution_count": null,
      "metadata": {
        "id": "611WO8LTuFIj",
        "colab": {
          "base_uri": "https://localhost:8080/"
        },
        "outputId": "61999e58-e5ac-4771-9e18-b55d9a8bd31d"
      },
      "outputs": [
        {
          "output_type": "execute_result",
          "data": {
            "text/plain": [
              "array([1, 2, 4])"
            ]
          },
          "metadata": {},
          "execution_count": 37
        }
      ],
      "source": [
        "import numpy as np\n",
        "ap = np.array([1,2,0,0,4,0])\n",
        "ap[np.nonzero(ap)]"
      ]
    },
    {
      "cell_type": "markdown",
      "metadata": {
        "id": "KT1VcStVuFIj"
      },
      "source": [
        "#### 11. Create a 3x3 identity matrix (★☆☆) \n",
        "(**hint**: np.eye)"
      ]
    },
    {
      "cell_type": "code",
      "execution_count": null,
      "metadata": {
        "id": "8aIaXEiMuFIk",
        "colab": {
          "base_uri": "https://localhost:8080/"
        },
        "outputId": "6bb2b5e6-bd39-409d-aa54-86305cf14679"
      },
      "outputs": [
        {
          "output_type": "stream",
          "name": "stdout",
          "text": [
            "[[1. 0. 0.]\n",
            " [0. 1. 0.]\n",
            " [0. 0. 1.]]\n"
          ]
        }
      ],
      "source": [
        "import numpy as np\n",
        "print(np.eye(3,3))     #print(np.identity(3))"
      ]
    },
    {
      "cell_type": "markdown",
      "metadata": {
        "id": "y7iMFat6uFIk"
      },
      "source": [
        "#### 12. Create a 3x3x3 array with random values (★☆☆) \n",
        "(**hint**: np.random.random)"
      ]
    },
    {
      "cell_type": "code",
      "execution_count": 7,
      "metadata": {
        "id": "bGFLa_oAuFIk",
        "colab": {
          "base_uri": "https://localhost:8080/"
        },
        "outputId": "18347cfb-6b21-4ac2-d6db-82c7307e50a1"
      },
      "outputs": [
        {
          "output_type": "execute_result",
          "data": {
            "text/plain": [
              "array([[[0.15360529, 0.36722332, 0.30354351],\n",
              "        [0.12935544, 0.24414049, 0.1143482 ],\n",
              "        [0.40306427, 0.03322362, 0.68935871]],\n",
              "\n",
              "       [[0.41739974, 0.06685905, 0.4249486 ],\n",
              "        [0.47931133, 0.42204325, 0.99574494],\n",
              "        [0.11730383, 0.18528672, 0.28969234]],\n",
              "\n",
              "       [[0.15790579, 0.46432079, 0.87171498],\n",
              "        [0.39933962, 0.71651265, 0.56245073],\n",
              "        [0.10036305, 0.68144566, 0.44019581]]])"
            ]
          },
          "metadata": {},
          "execution_count": 7
        }
      ],
      "source": [
        "import numpy as np\n",
        "ap=np.random.random((3,3,3))\n",
        "ap\n"
      ]
    },
    {
      "cell_type": "markdown",
      "metadata": {
        "id": "OyeEPvfvuFIk"
      },
      "source": [
        "#### 13. Create a 10x10 array with random values and find the minimum and maximum values (★☆☆) \n",
        "(**hint**: min, max)"
      ]
    },
    {
      "cell_type": "code",
      "execution_count": null,
      "metadata": {
        "id": "56FdOfzUuFIk",
        "colab": {
          "base_uri": "https://localhost:8080/"
        },
        "outputId": "44fddb6c-23ba-45ef-d877-2cb297951fc2"
      },
      "outputs": [
        {
          "output_type": "stream",
          "name": "stdout",
          "text": [
            "minimum and maximum values are:\n",
            "0.004449170115994772 0.9724583232283053\n"
          ]
        }
      ],
      "source": [
        "import numpy as np\n",
        "ap=np.random.random((10,10))\n",
        "print('minimum and maximum values are:')\n",
        "print(ap.min(),ap.max())"
      ]
    },
    {
      "cell_type": "markdown",
      "metadata": {
        "id": "kSWCrUo3uFIk"
      },
      "source": [
        "#### 14. Create a random vector of size 30 and find the mean value (★☆☆) \n",
        "(**hint**: mean)"
      ]
    },
    {
      "cell_type": "code",
      "execution_count": null,
      "metadata": {
        "id": "enhDd_XTuFIk",
        "colab": {
          "base_uri": "https://localhost:8080/"
        },
        "outputId": "3bc9ad25-f01d-4b62-a95f-24517820e922"
      },
      "outputs": [
        {
          "output_type": "stream",
          "name": "stdout",
          "text": [
            "mean value for the size of 30:\n"
          ]
        },
        {
          "output_type": "execute_result",
          "data": {
            "text/plain": [
              "0.48157843576686565"
            ]
          },
          "metadata": {},
          "execution_count": 72
        }
      ],
      "source": [
        "import numpy as np\n",
        "ap=np.random.random(30)\n",
        "print('mean value for the size of 30:')\n",
        "ap.mean()"
      ]
    },
    {
      "cell_type": "markdown",
      "metadata": {
        "id": "iSL6Y9RcuFIl"
      },
      "source": [
        "#### 15. Create a 2d array with 1 on the border and 0 inside (★☆☆) \n",
        "(**hint**: array\\[1:-1, 1:-1\\])"
      ]
    },
    {
      "cell_type": "code",
      "execution_count": null,
      "metadata": {
        "id": "_i7UO1BeuFIl",
        "colab": {
          "base_uri": "https://localhost:8080/"
        },
        "outputId": "1fb23fd9-6ffb-4c88-8517-880d3b6e27f8"
      },
      "outputs": [
        {
          "output_type": "execute_result",
          "data": {
            "text/plain": [
              "array([[1., 1., 1., 1., 1.],\n",
              "       [1., 0., 0., 0., 1.],\n",
              "       [1., 0., 0., 0., 1.],\n",
              "       [1., 0., 0., 0., 1.],\n",
              "       [1., 1., 1., 1., 1.]])"
            ]
          },
          "metadata": {},
          "execution_count": 86
        }
      ],
      "source": [
        "import numpy as np\n",
        "ap = np.ones((5,5))\n",
        "ap[1:-1,1:-1]=0\n",
        "ap"
      ]
    },
    {
      "cell_type": "markdown",
      "metadata": {
        "id": "0RSTXzYcuFIl"
      },
      "source": [
        "#### 16. How to add a border (filled with 0's) around an existing array? (★☆☆) \n",
        "(**hint**: np.pad)"
      ]
    },
    {
      "cell_type": "code",
      "execution_count": 4,
      "metadata": {
        "id": "GyuWogpRuFIl",
        "colab": {
          "base_uri": "https://localhost:8080/"
        },
        "outputId": "2d738b68-ad04-49e8-c20c-c93e13b62837"
      },
      "outputs": [
        {
          "output_type": "execute_result",
          "data": {
            "text/plain": [
              "array([[0., 0., 0., 0.],\n",
              "       [0., 1., 1., 0.],\n",
              "       [0., 1., 1., 0.],\n",
              "       [0., 0., 0., 0.]])"
            ]
          },
          "metadata": {},
          "execution_count": 4
        }
      ],
      "source": [
        "import numpy as np\n",
        "ap = np.ones((2,2))\n",
        "arr1 = np.pad(ap, pad_width = 1, mode='constant', constant_values=0) \n",
        "arr1"
      ]
    },
    {
      "cell_type": "markdown",
      "metadata": {
        "id": "t0Kl9TnMuFIl"
      },
      "source": [
        "#### 17. What is the result of the following expression? (★☆☆) \n",
        "(**hint**: NaN = not a number, inf = infinity)"
      ]
    },
    {
      "cell_type": "markdown",
      "metadata": {
        "id": "3YXCOgfIuFIl"
      },
      "source": [
        "```python\n",
        "0 * np.nan\n",
        "np.nan == np.nan\n",
        "np.inf > np.nan\n",
        "np.nan - np.nan\n",
        "0.3 == 3 * 0.1\n",
        "```"
      ]
    },
    {
      "cell_type": "code",
      "execution_count": 8,
      "metadata": {
        "id": "I2ZvK2CeuFIl"
      },
      "outputs": [],
      "source": [
        "nan\n",
        "False\n",
        "False\n",
        "nan\n",
        "False"
      ]
    },
    {
      "cell_type": "markdown",
      "metadata": {
        "id": "WxDc8LAuuFIm"
      },
      "source": [
        "#### 18. Create a 5x5 matrix with values 1,2,3,4 just below the diagonal (★☆☆) \n",
        "(**hint**: np.diag)"
      ]
    },
    {
      "cell_type": "code",
      "execution_count": 10,
      "metadata": {
        "id": "_FHTYGEFuFIm",
        "colab": {
          "base_uri": "https://localhost:8080/"
        },
        "outputId": "b388b31d-330f-4a28-fd64-7deaa26f38b2"
      },
      "outputs": [
        {
          "output_type": "execute_result",
          "data": {
            "text/plain": [
              "array([[1, 0, 0, 0],\n",
              "       [0, 2, 0, 0],\n",
              "       [0, 0, 3, 0],\n",
              "       [0, 0, 0, 4]])"
            ]
          },
          "metadata": {},
          "execution_count": 10
        }
      ],
      "source": [
        "import numpy as np\n",
        "ap=np.diag([1,2,3,4])\n",
        "ap\n"
      ]
    },
    {
      "cell_type": "markdown",
      "metadata": {
        "id": "_JXzbczxuFIm"
      },
      "source": [
        "#### 19. Create a 8x8 matrix and fill it with a checkerboard pattern (★☆☆) \n",
        "(**hint**: array\\[::2\\])"
      ]
    },
    {
      "cell_type": "code",
      "execution_count": 29,
      "metadata": {
        "id": "SiKY02akuFIn",
        "colab": {
          "base_uri": "https://localhost:8080/"
        },
        "outputId": "32360df1-7879-49d9-ccac-32cdfe9efdf1"
      },
      "outputs": [
        {
          "output_type": "stream",
          "name": "stdout",
          "text": [
            "Checkerboard pattern:\n",
            "[[0 1 0 1 0 1 0 1]\n",
            " [1 0 1 0 1 0 1 0]\n",
            " [0 1 0 1 0 1 0 1]\n",
            " [1 0 1 0 1 0 1 0]\n",
            " [0 1 0 1 0 1 0 1]\n",
            " [1 0 1 0 1 0 1 0]\n",
            " [0 1 0 1 0 1 0 1]\n",
            " [1 0 1 0 1 0 1 0]]\n"
          ]
        }
      ],
      "source": [
        "import numpy as np\n",
        "x=np.ones((3,3))\n",
        "x=np.zeros((8,8),dtype=int)            #alteranate wise zero after one\n",
        "x[1::2,::2] = 1                          \n",
        "x[::2,1::2] = 1\n",
        "print(x)"
      ]
    },
    {
      "cell_type": "markdown",
      "metadata": {
        "id": "d4mrbcCbuFIn"
      },
      "source": [
        "#### 20. Consider a (6,7,8) shape array, what is the index (x,y,z) of the 100th element? \n",
        "(**hint**: np.unravel_index)"
      ]
    },
    {
      "cell_type": "code",
      "execution_count": 40,
      "metadata": {
        "id": "Ar-ximffuFIn",
        "colab": {
          "base_uri": "https://localhost:8080/"
        },
        "outputId": "c51cf290-a898-4c99-d87c-8498b5ea013e"
      },
      "outputs": [
        {
          "output_type": "execute_result",
          "data": {
            "text/plain": [
              "(1, 5, 4)"
            ]
          },
          "metadata": {},
          "execution_count": 40
        }
      ],
      "source": [
        "import numpy as np\n",
        "np.unravel_index(100,[6,7,8])"
      ]
    },
    {
      "cell_type": "markdown",
      "metadata": {
        "id": "v5AK0V9guFIn"
      },
      "source": [
        "#### 21. Create a checkerboard 8x8 matrix using the tile function (★☆☆) \n",
        "(**hint**: np.tile)"
      ]
    },
    {
      "cell_type": "code",
      "execution_count": 48,
      "metadata": {
        "id": "lwgurxlduFIn",
        "colab": {
          "base_uri": "https://localhost:8080/"
        },
        "outputId": "38b6b6b6-b0be-4faf-f077-ef0f9d41f69d"
      },
      "outputs": [
        {
          "output_type": "execute_result",
          "data": {
            "text/plain": [
              "array([[1, 2, 3, 4, 5, 6, 7, 8, 1, 2, 3, 4, 5, 6, 7, 8],\n",
              "       [1, 2, 3, 4, 5, 6, 7, 8, 1, 2, 3, 4, 5, 6, 7, 8],\n",
              "       [1, 2, 3, 4, 5, 6, 7, 8, 1, 2, 3, 4, 5, 6, 7, 8],\n",
              "       [1, 2, 3, 4, 5, 6, 7, 8, 1, 2, 3, 4, 5, 6, 7, 8],\n",
              "       [1, 2, 3, 4, 5, 6, 7, 8, 1, 2, 3, 4, 5, 6, 7, 8],\n",
              "       [1, 2, 3, 4, 5, 6, 7, 8, 1, 2, 3, 4, 5, 6, 7, 8],\n",
              "       [1, 2, 3, 4, 5, 6, 7, 8, 1, 2, 3, 4, 5, 6, 7, 8],\n",
              "       [1, 2, 3, 4, 5, 6, 7, 8, 1, 2, 3, 4, 5, 6, 7, 8]])"
            ]
          },
          "metadata": {},
          "execution_count": 48
        }
      ],
      "source": [
        "import numpy as np\n",
        "a= np.array([1,2,3,4,5,6,7,8])\n",
        "np.tile(a,(8,2))"
      ]
    },
    {
      "cell_type": "markdown",
      "metadata": {
        "id": "RgY9OHtduFIn"
      },
      "source": [
        "#### 22. Normalize a 5x5 random matrix (★☆☆) \n",
        "(**hint**: (x - min) / (max - min))"
      ]
    },
    {
      "cell_type": "code",
      "execution_count": 70,
      "metadata": {
        "id": "SY4C4cr6uFIo",
        "colab": {
          "base_uri": "https://localhost:8080/"
        },
        "outputId": "703bc180-5ec5-4a19-ef36-89e333a54b58"
      },
      "outputs": [
        {
          "output_type": "stream",
          "name": "stdout",
          "text": [
            "[[ -0.54418774  -0.          -0.45982172  -2.17232194  -0.14645083]\n",
            " [ -3.07626311  -0.26266966  -0.16119012 -11.12168562 -32.61236067]\n",
            " [ -1.13407718  -1.83952046  -0.49025018  -4.99600037  -2.39525871]\n",
            " [ -3.54122867  -0.40158242  -0.24793839  -5.28282788  -0.45226464]\n",
            " [ -0.90415083  -0.76757106          inf  -0.81429119  -0.71157325]]\n"
          ]
        },
        {
          "output_type": "stream",
          "name": "stderr",
          "text": [
            "/usr/local/lib/python3.7/dist-packages/ipykernel_launcher.py:4: RuntimeWarning: divide by zero encountered in true_divide\n",
            "  after removing the cwd from sys.path.\n"
          ]
        }
      ],
      "source": [
        "import numpy as np\n",
        "ap = np.random.random((5,5))\n",
        "mini,maxi= ap.min(),ap.max()\n",
        "ap = (ap-mini)/(ap-maxi)\n",
        "print(ap)"
      ]
    },
    {
      "cell_type": "markdown",
      "metadata": {
        "id": "IQs7VyG6uFIo"
      },
      "source": [
        "#### 23. Create a custom dtype that describes a color as four unsigned bytes (RGBA) (★☆☆) \n",
        "(**hint**: np.dtype)"
      ]
    },
    {
      "cell_type": "code",
      "source": [
        "arr = np.array([1 ,2 ,3 ], dtype='f')\n",
        "print(arr.dtype)"
      ],
      "metadata": {
        "colab": {
          "base_uri": "https://localhost:8080/"
        },
        "id": "0lAO66Ov_ETG",
        "outputId": "f0321d91-dd2b-4b81-e8b9-ce28629ad33b"
      },
      "execution_count": 83,
      "outputs": [
        {
          "output_type": "stream",
          "name": "stdout",
          "text": [
            "float32\n"
          ]
        }
      ]
    },
    {
      "cell_type": "code",
      "execution_count": 110,
      "metadata": {
        "collapsed": true,
        "id": "dWe__sqYuFIo",
        "colab": {
          "base_uri": "https://localhost:8080/"
        },
        "outputId": "3ce9c320-4ff0-4fa1-cbb3-efdc99ab36a9"
      },
      "outputs": [
        {
          "output_type": "stream",
          "name": "stdout",
          "text": [
            "[('r', 'u1'), ('g', 'u1'), ('b', 'u1'), ('a', 'u1')]\n"
          ]
        },
        {
          "output_type": "stream",
          "name": "stderr",
          "text": [
            "/usr/local/lib/python3.7/dist-packages/ipykernel_launcher.py:4: FutureWarning: Passing (type, 1) or '1type' as a synonym of type is deprecated; in a future version of numpy, it will be understood as (type, (1,)) / '(1,)type'.\n",
            "  after removing the cwd from sys.path.\n"
          ]
        }
      ],
      "source": [
        "color = np.dtype([(\"r\", np.ubyte, 1),\n",
        "                  (\"g\", np.ubyte, 1),\n",
        "                  (\"b\", np.ubyte, 1),\n",
        "                  (\"a\", np.ubyte, 1)])\n",
        "print(color)"
      ]
    },
    {
      "cell_type": "markdown",
      "metadata": {
        "id": "k04cIzu_uFIo"
      },
      "source": [
        "#### 24. Multiply a 5x3 matrix by a 3x2 matrix (real matrix product) (★☆☆) \n",
        "(**hint**: np.dot | @)"
      ]
    },
    {
      "cell_type": "code",
      "execution_count": 87,
      "metadata": {
        "id": "jdsohx0duFIo",
        "colab": {
          "base_uri": "https://localhost:8080/"
        },
        "outputId": "d9c5d0c8-c3c0-415a-fb0c-4e2162a12455"
      },
      "outputs": [
        {
          "output_type": "execute_result",
          "data": {
            "text/plain": [
              "array([[0.766002  , 0.68942373],\n",
              "       [1.16376542, 0.88981505],\n",
              "       [0.51399891, 0.5207407 ],\n",
              "       [0.74271676, 0.65929844],\n",
              "       [1.32716916, 0.95368477]])"
            ]
          },
          "metadata": {},
          "execution_count": 87
        }
      ],
      "source": [
        "a=np.random.random([5,3])\n",
        "b=np.random.random([3,2])\n",
        "np.dot(a,b)"
      ]
    },
    {
      "cell_type": "markdown",
      "metadata": {
        "id": "Ohp-VGRDuFIo"
      },
      "source": [
        "#### 25. Given a 1D array, negate all elements which are between 3 and 8, in place. (★☆☆) \n",
        "(**hint**: >, <=)"
      ]
    },
    {
      "cell_type": "code",
      "execution_count": 98,
      "metadata": {
        "id": "bAkfce8WuFIo",
        "colab": {
          "base_uri": "https://localhost:8080/"
        },
        "outputId": "b55fe532-ea5f-4e40-99d4-2b5031a2baed"
      },
      "outputs": [
        {
          "output_type": "stream",
          "name": "stdout",
          "text": [
            "[ 1  2  3  0  0  0  0  8  9 10 11 12 13 14]\n"
          ]
        }
      ],
      "source": [
        "a= np.arange(1,15)\n",
        "a[(a>3) & (a<8)] *=0\n",
        "print(a)"
      ]
    },
    {
      "cell_type": "markdown",
      "metadata": {
        "id": "Yi41c3CauFIo"
      },
      "source": [
        "#### 26. What is the output of the following script? (★☆☆) \n",
        "(**hint**: np.sum)"
      ]
    },
    {
      "cell_type": "markdown",
      "metadata": {
        "id": "LZ-OyFjQuFIo"
      },
      "source": [
        "```python\n",
        "# Author: Jake VanderPlas\n",
        "\n",
        "print(sum(range(5),-1))\n",
        "from numpy import *\n",
        "print(sum(range(5),-1))\n",
        "```"
      ]
    },
    {
      "cell_type": "code",
      "execution_count": 102,
      "metadata": {
        "id": "ZqSlWui6uFIp",
        "colab": {
          "base_uri": "https://localhost:8080/"
        },
        "outputId": "121ec0f1-3d18-4cef-c33c-cf3b46217540"
      },
      "outputs": [
        {
          "output_type": "stream",
          "name": "stdout",
          "text": [
            "10\n",
            "10\n"
          ]
        }
      ],
      "source": [
        "\n",
        "print(sum(range(5),-1))\n",
        "from numpy import *                         #'*' implies that to make code in one module available in another.\n",
        "print(sum(range(5),-1))\n",
        "\n"
      ]
    },
    {
      "cell_type": "markdown",
      "metadata": {
        "id": "zLB22raVuFIp"
      },
      "source": [
        "#### 27. Consider an integer vector Z, which of these expressions are legal? (★☆☆)"
      ]
    },
    {
      "cell_type": "markdown",
      "metadata": {
        "id": "pPLSQEH3uFIp"
      },
      "source": [
        "```python\n",
        "Z**Z\n",
        "2 << Z >> 2\n",
        "Z <- Z\n",
        "1j*Z\n",
        "Z/1/1\n",
        "Z<Z>Z\n",
        "```"
      ]
    },
    {
      "cell_type": "code",
      "execution_count": 111,
      "metadata": {
        "id": "Vng5p7RguFIp",
        "colab": {
          "base_uri": "https://localhost:8080/"
        },
        "outputId": "7e09b177-69e2-4869-dd2b-71c296e1541d"
      },
      "outputs": [
        {
          "output_type": "stream",
          "name": "stdout",
          "text": [
            "10000000000\n",
            "512\n",
            "False\n",
            "10j\n",
            "10.0\n",
            "False\n"
          ]
        }
      ],
      "source": [
        "Z=np.array(10)\n",
        "print(Z**Z)\n",
        "print(2 << Z >> 2)\n",
        "print(Z <- Z)\n",
        "print(1j*Z)\n",
        "print(Z/1/1)\n",
        "print(Z<Z>Z)"
      ]
    },
    {
      "cell_type": "markdown",
      "metadata": {
        "id": "rzW8q03uuFIp"
      },
      "source": [
        "#### 28. What are the result of the following expressions?"
      ]
    },
    {
      "cell_type": "markdown",
      "metadata": {
        "id": "TrW4LtqeuFIp"
      },
      "source": [
        "```python\n",
        "np.array(0) / np.array(0)\n",
        "np.array(0) // np.array(0)\n",
        "np.array([np.nan]).astype(int).astype(float)\n",
        "```"
      ]
    },
    {
      "cell_type": "code",
      "execution_count": 113,
      "metadata": {
        "id": "awNt3DoduFIp",
        "colab": {
          "base_uri": "https://localhost:8080/"
        },
        "outputId": "4fc34b74-587b-49b2-bb8f-db02c18046af"
      },
      "outputs": [
        {
          "output_type": "stream",
          "name": "stdout",
          "text": [
            "nan\n",
            "0\n",
            "[-9.22337204e+18]\n"
          ]
        },
        {
          "output_type": "stream",
          "name": "stderr",
          "text": [
            "/usr/local/lib/python3.7/dist-packages/ipykernel_launcher.py:1: RuntimeWarning: invalid value encountered in true_divide\n",
            "  \"\"\"Entry point for launching an IPython kernel.\n",
            "/usr/local/lib/python3.7/dist-packages/ipykernel_launcher.py:2: RuntimeWarning: divide by zero encountered in floor_divide\n",
            "  \n"
          ]
        }
      ],
      "source": [
        "print(np.array(0) / np.array(0))\n",
        "print(np.array(0) // np.array(0))\n",
        "print(np.array([np.nan]).astype(int).astype(float))"
      ]
    },
    {
      "cell_type": "markdown",
      "metadata": {
        "id": "E0GxS4PRuFIp"
      },
      "source": [
        "#### 29. How to round away from zero a float array ? (★☆☆) \n",
        "(**hint**: np.uniform, np.copysign, np.ceil, np.abs)"
      ]
    },
    {
      "cell_type": "code",
      "execution_count": 134,
      "metadata": {
        "id": "BNvEM6TduFIp",
        "colab": {
          "base_uri": "https://localhost:8080/"
        },
        "outputId": "3fb32e92-3374-4888-9468-b9a80cf000fb"
      },
      "outputs": [
        {
          "output_type": "stream",
          "name": "stdout",
          "text": [
            "[-8.  5. -8.]\n"
          ]
        }
      ],
      "source": [
        "Z = np.random.uniform(-10,+10,3)\n",
        "print (np.copysign(np.ceil(np.abs(Z)), Z))"
      ]
    },
    {
      "cell_type": "markdown",
      "metadata": {
        "id": "cclx4IhUuFIp"
      },
      "source": [
        "#### 30. How to find common values between two arrays? (★☆☆) \n",
        "(**hint**: np.intersect1d)"
      ]
    },
    {
      "cell_type": "code",
      "execution_count": 126,
      "metadata": {
        "id": "FhR-Bwy-uFIp",
        "colab": {
          "base_uri": "https://localhost:8080/"
        },
        "outputId": "b4a0e876-0d1c-45b1-e566-1e789656c79e"
      },
      "outputs": [
        {
          "output_type": "stream",
          "name": "stdout",
          "text": [
            "[ 0 10 34]\n"
          ]
        }
      ],
      "source": [
        "ap1 = np.array([0,10,19,34,55])\n",
        "ap2 = np.array([0,10,14,34])\n",
        "print(np.intersect1d(ap1,ap2))"
      ]
    },
    {
      "cell_type": "code",
      "source": [
        "ap1 = np.random.randint(0,10,10)\n",
        "ap2 = np.random.randint(0,10,10)\n",
        "print(np.intersect1d(ap1,ap2))"
      ],
      "metadata": {
        "colab": {
          "base_uri": "https://localhost:8080/"
        },
        "id": "lP5188WuMTQW",
        "outputId": "94910bc6-92f6-4620-ea96-3838a48b2813"
      },
      "execution_count": 129,
      "outputs": [
        {
          "output_type": "stream",
          "name": "stdout",
          "text": [
            "[0 5 7 8]\n"
          ]
        }
      ]
    },
    {
      "cell_type": "markdown",
      "metadata": {
        "id": "lSreQZDpuFIq"
      },
      "source": [
        "#### 31. How to ignore all numpy warnings (not recommended)? (★☆☆) \n",
        "(**hint**: np.seterr, np.errstate)"
      ]
    },
    {
      "cell_type": "code",
      "execution_count": 135,
      "metadata": {
        "id": "To-SdJWyuFIq",
        "colab": {
          "base_uri": "https://localhost:8080/"
        },
        "outputId": "64cca970-6aa6-40d8-cd0b-f8aad423c907"
      },
      "outputs": [
        {
          "output_type": "execute_result",
          "data": {
            "text/plain": [
              "{'divide': 'warn', 'over': 'warn', 'under': 'ignore', 'invalid': 'warn'}"
            ]
          },
          "metadata": {},
          "execution_count": 135
        }
      ],
      "source": [
        "np.seterr(all=None, divide=None, over=None, under=None, invalid=None)"
      ]
    },
    {
      "cell_type": "code",
      "source": [
        "defaults = np.seterr(all=\"ignore\")\n",
        "Z = np.ones(1)/0\n",
        "\n",
        "# Back to sanity\n",
        "_ = np.seterr(**defaults)\n",
        "nz = np.nonzero([1,2,0,0,4,0])\n",
        "print(nz)"
      ],
      "metadata": {
        "colab": {
          "base_uri": "https://localhost:8080/"
        },
        "id": "BMrVAGJSbXLd",
        "outputId": "e0da2cc2-d4cd-4d04-c180-363c72584e9c"
      },
      "execution_count": 138,
      "outputs": [
        {
          "output_type": "stream",
          "name": "stdout",
          "text": [
            "(array([0, 1, 4]),)\n"
          ]
        }
      ]
    },
    {
      "cell_type": "markdown",
      "metadata": {
        "id": "JsaUIQbsuFIq"
      },
      "source": [
        "#### 32. Is the following expressions true? (★☆☆) \n",
        "(**hint**: imaginary number)"
      ]
    },
    {
      "cell_type": "markdown",
      "metadata": {
        "id": "oVuYXu_7uFIq"
      },
      "source": [
        "```python\n",
        "np.sqrt(-1) == np.emath.sqrt(-1)\n",
        "```"
      ]
    },
    {
      "cell_type": "code",
      "execution_count": 142,
      "metadata": {
        "id": "sguMg8D-uFIq",
        "colab": {
          "base_uri": "https://localhost:8080/"
        },
        "outputId": "d75dbb53-26b2-420c-bad5-750ece86b7e1"
      },
      "outputs": [
        {
          "output_type": "stream",
          "name": "stderr",
          "text": [
            "/usr/local/lib/python3.7/dist-packages/ipykernel_launcher.py:1: RuntimeWarning: invalid value encountered in sqrt\n",
            "  \"\"\"Entry point for launching an IPython kernel.\n"
          ]
        },
        {
          "output_type": "execute_result",
          "data": {
            "text/plain": [
              "False"
            ]
          },
          "metadata": {},
          "execution_count": 142
        }
      ],
      "source": [
        "np.sqrt(-1) == np.emath.sqrt(-1)"
      ]
    },
    {
      "cell_type": "markdown",
      "metadata": {
        "id": "U-xTSCo2uFIq"
      },
      "source": [
        "#### 33. How to get the dates of yesterday, today and tomorrow? (★☆☆) \n",
        "(**hint**: np.datetime64, np.timedelta64)"
      ]
    },
    {
      "cell_type": "code",
      "execution_count": 144,
      "metadata": {
        "collapsed": true,
        "id": "5MlMFUSIuFIq",
        "colab": {
          "base_uri": "https://localhost:8080/"
        },
        "outputId": "28ef6aea-9952-4ee7-ff80-4e78a46121a0"
      },
      "outputs": [
        {
          "output_type": "stream",
          "name": "stdout",
          "text": [
            "2022-11-11\n",
            "2022-11-12\n",
            "2022-11-13\n"
          ]
        }
      ],
      "source": [
        "yesterday = np.datetime64('today', 'D') - np.timedelta64(1, 'D')\n",
        "today     = np.datetime64('today', 'D')\n",
        "tomorrow  = np.datetime64('today', 'D') + np.timedelta64(1, 'D')\n",
        "print(yesterday)\n",
        "print(today)\n",
        "print(tomorrow)"
      ]
    },
    {
      "cell_type": "markdown",
      "metadata": {
        "id": "Y9tQUg2KuFIq"
      },
      "source": [
        "#### 34. How to get all the dates corresponding to the month of July 2016? (★★☆) \n",
        "(**hint**: np.arange(dtype=datetime64\\['D'\\]))"
      ]
    },
    {
      "cell_type": "code",
      "execution_count": 145,
      "metadata": {
        "id": "MTg9SY5HuFIq",
        "colab": {
          "base_uri": "https://localhost:8080/"
        },
        "outputId": "253412da-f345-434c-f1af-fcf2c1d0fdc3"
      },
      "outputs": [
        {
          "output_type": "stream",
          "name": "stdout",
          "text": [
            "['2016-07-01' '2016-07-02' '2016-07-03' '2016-07-04' '2016-07-05'\n",
            " '2016-07-06' '2016-07-07' '2016-07-08' '2016-07-09' '2016-07-10'\n",
            " '2016-07-11' '2016-07-12' '2016-07-13' '2016-07-14' '2016-07-15'\n",
            " '2016-07-16' '2016-07-17' '2016-07-18' '2016-07-19' '2016-07-20'\n",
            " '2016-07-21' '2016-07-22' '2016-07-23' '2016-07-24' '2016-07-25'\n",
            " '2016-07-26' '2016-07-27' '2016-07-28' '2016-07-29' '2016-07-30'\n",
            " '2016-07-31']\n"
          ]
        }
      ],
      "source": [
        "ap = np.arange('2016-07', '2016-08', dtype='datetime64[D]')\n",
        "print(ap)"
      ]
    },
    {
      "cell_type": "markdown",
      "metadata": {
        "id": "YL662Zc8uFIq"
      },
      "source": [
        "#### 35. How to compute ((A+B)\\*(-A/2)) in place (without copy)? (★★☆) \n",
        "(**hint**: np.add(out=), np.negative(out=), np.multiply(out=), np.divide(out=))"
      ]
    },
    {
      "cell_type": "code",
      "execution_count": 151,
      "metadata": {
        "id": "YSrWw2tyuFIq",
        "colab": {
          "base_uri": "https://localhost:8080/"
        },
        "outputId": "3d050373-5db3-4cea-f91b-ee71d8f3461b"
      },
      "outputs": [
        {
          "output_type": "execute_result",
          "data": {
            "text/plain": [
              "array([-1.5, -1.5, -1.5])"
            ]
          },
          "metadata": {},
          "execution_count": 151
        }
      ],
      "source": [
        "A = np.ones(3)*1\n",
        "B = np.ones(3)*2\n",
        "C = np.ones(3)*3\n",
        "np.add(A,B,out=B)\n",
        "np.negative(A,out=A)\n",
        "np.multiply(A,B,out=A)\n",
        "np.divide(A,2,out=A)"
      ]
    },
    {
      "cell_type": "markdown",
      "metadata": {
        "id": "Kjbqbuq5uFIr"
      },
      "source": [
        "#### 36. Extract the integer part of a random array using 5 different methods (★★☆) \n",
        "(**hint**: %, np.floor, np.ceil, astype, np.trunc)"
      ]
    },
    {
      "cell_type": "code",
      "execution_count": 152,
      "metadata": {
        "id": "5v1ZbjxwuFIr",
        "colab": {
          "base_uri": "https://localhost:8080/"
        },
        "outputId": "d4c75d0a-9a22-4af4-8312-b768fccdef6b"
      },
      "outputs": [
        {
          "output_type": "stream",
          "name": "stdout",
          "text": [
            "[9. 6. 5. 1. 5. 8. 8. 9. 0. 5.]\n",
            "[9. 6. 5. 1. 5. 8. 8. 9. 0. 5.]\n",
            "[9. 6. 5. 1. 5. 8. 8. 9. 0. 5.]\n",
            "[9 6 5 1 5 8 8 9 0 5]\n",
            "[9. 6. 5. 1. 5. 8. 8. 9. 0. 5.]\n"
          ]
        }
      ],
      "source": [
        "ap = np.random.uniform(0,10,10)\n",
        "\n",
        "print (ap - ap%1)\n",
        "print (np.floor(ap))\n",
        "print (np.ceil(ap)-1)\n",
        "print (ap.astype(int))\n",
        "print (np.trunc(ap))"
      ]
    },
    {
      "cell_type": "markdown",
      "metadata": {
        "id": "f73GDZruuFIr"
      },
      "source": [
        "#### 37. Create a 5x5 matrix with row values ranging from 0 to 4 (★★☆) \n",
        "(**hint**: np.arange)"
      ]
    },
    {
      "cell_type": "code",
      "execution_count": 153,
      "metadata": {
        "id": "CO4WomCfuFIr",
        "colab": {
          "base_uri": "https://localhost:8080/"
        },
        "outputId": "1e206686-9aa9-40c9-b793-724b1106d5ec"
      },
      "outputs": [
        {
          "output_type": "stream",
          "name": "stdout",
          "text": [
            "[[0. 1. 2. 3. 4.]\n",
            " [0. 1. 2. 3. 4.]\n",
            " [0. 1. 2. 3. 4.]\n",
            " [0. 1. 2. 3. 4.]\n",
            " [0. 1. 2. 3. 4.]]\n"
          ]
        }
      ],
      "source": [
        "Z = np.zeros((5,5))\n",
        "Z += np.arange(5)\n",
        "print(Z)"
      ]
    },
    {
      "cell_type": "markdown",
      "metadata": {
        "id": "PitLmnGauFIr"
      },
      "source": [
        "#### 38. Consider a generator function that generates 10 integers and use it to build an array (★☆☆) \n",
        "(**hint**: np.fromiter)"
      ]
    },
    {
      "cell_type": "code",
      "execution_count": 155,
      "metadata": {
        "id": "naQeYAYWuFIr",
        "colab": {
          "base_uri": "https://localhost:8080/"
        },
        "outputId": "6a15d6eb-ac76-4c50-ea5f-a4b6aa6b3dfd"
      },
      "outputs": [
        {
          "output_type": "stream",
          "name": "stdout",
          "text": [
            "[0. 1. 2. 3. 4. 5. 6. 7. 8. 9.]\n"
          ]
        }
      ],
      "source": [
        "def generate():\n",
        "    for x in range(10):\n",
        "        yield x\n",
        "Z = np.fromiter(generate(),dtype=float,count=-1)\n",
        "print(Z)"
      ]
    },
    {
      "cell_type": "markdown",
      "metadata": {
        "id": "BipajSWiuFIr"
      },
      "source": [
        "#### 39. Create a vector of size 10 with values ranging from 0 to 1, both excluded (★★☆) \n",
        "(**hint**: np.linspace)"
      ]
    },
    {
      "cell_type": "code",
      "execution_count": 156,
      "metadata": {
        "id": "jARQZ1-IuFIr",
        "colab": {
          "base_uri": "https://localhost:8080/"
        },
        "outputId": "17d7d4b8-03ee-4cac-bdc8-0166de792868"
      },
      "outputs": [
        {
          "output_type": "stream",
          "name": "stdout",
          "text": [
            "[0.09090909 0.18181818 0.27272727 0.36363636 0.45454545 0.54545455\n",
            " 0.63636364 0.72727273 0.81818182 0.90909091]\n"
          ]
        }
      ],
      "source": [
        "ap = np.linspace(0,1,12,endpoint=True)[1:-1]\n",
        "print(ap)"
      ]
    },
    {
      "cell_type": "markdown",
      "metadata": {
        "id": "MBKP0-fBuFIr"
      },
      "source": [
        "#### 40. Create a random vector of size 10 and sort it (★★☆) \n",
        "(**hint**: sort)"
      ]
    },
    {
      "cell_type": "code",
      "execution_count": 159,
      "metadata": {
        "id": "0IBJdAN-uFIs",
        "colab": {
          "base_uri": "https://localhost:8080/"
        },
        "outputId": "a470e7be-ed3f-4333-cf7f-2d64c31a2246"
      },
      "outputs": [
        {
          "output_type": "stream",
          "name": "stdout",
          "text": [
            "[1 2 4 4 4 5 6 9]\n"
          ]
        }
      ],
      "source": [
        "ap = np.array([5,4,6,9,4,2,4,1])\n",
        "ap.sort()\n",
        "print(ap)"
      ]
    },
    {
      "cell_type": "markdown",
      "metadata": {
        "id": "4vsZgtmRuFIs"
      },
      "source": [
        "#### 41. How to sum a small array faster than np.sum? (★★☆) \n",
        "(**hint**: np.add.reduce)"
      ]
    },
    {
      "cell_type": "code",
      "execution_count": 165,
      "metadata": {
        "id": "ZCPEkhOduFIs",
        "colab": {
          "base_uri": "https://localhost:8080/"
        },
        "outputId": "61696cf9-0bd2-4e11-df8a-444005ecf666"
      },
      "outputs": [
        {
          "output_type": "execute_result",
          "data": {
            "text/plain": [
              "190"
            ]
          },
          "metadata": {},
          "execution_count": 165
        }
      ],
      "source": [
        "ap = np.arange(20)\n",
        "np.add.reduce(ap)"
      ]
    },
    {
      "cell_type": "markdown",
      "metadata": {
        "id": "yk6SzAutuFIs"
      },
      "source": [
        "#### 42. Consider two random array A and B, check if they are equal (★★☆) \n",
        "(**hint**: np.allclose, np.array\\_equal)"
      ]
    },
    {
      "cell_type": "code",
      "execution_count": 166,
      "metadata": {
        "id": "MxpYV1QIuFIs",
        "colab": {
          "base_uri": "https://localhost:8080/"
        },
        "outputId": "2d012121-a296-4f5d-e314-24a8929b82a8"
      },
      "outputs": [
        {
          "output_type": "stream",
          "name": "stdout",
          "text": [
            "False\n",
            "False\n"
          ]
        }
      ],
      "source": [
        "A = np.random.randint(0,2,5)\n",
        "B = np.random.randint(0,2,5)\n",
        "\n",
        "equal = np.allclose(A,B)\n",
        "print(equal)\n",
        "\n",
        "equal = np.array_equal(A,B)\n",
        "print(equal)"
      ]
    },
    {
      "cell_type": "markdown",
      "metadata": {
        "id": "sqvQIadLuFIs"
      },
      "source": [
        "#### 43. Make an array immutable (read-only) (★★☆) \n",
        "(**hint**: flags.writeable)"
      ]
    },
    {
      "cell_type": "code",
      "execution_count": 339,
      "metadata": {
        "id": "Jdd0ELRDuFIs",
        "colab": {
          "base_uri": "https://localhost:8080/",
          "height": 200
        },
        "outputId": "3455a992-31d7-4aae-f760-af9d6fdb5485"
      },
      "outputs": [
        {
          "output_type": "error",
          "ename": "ValueError",
          "evalue": "ignored",
          "traceback": [
            "\u001b[0;31m---------------------------------------------------------------------------\u001b[0m",
            "\u001b[0;31mValueError\u001b[0m                                Traceback (most recent call last)",
            "\u001b[0;32m<ipython-input-339-dcc5e7f145b5>\u001b[0m in \u001b[0;36m<module>\u001b[0;34m\u001b[0m\n\u001b[1;32m      1\u001b[0m \u001b[0mZ\u001b[0m \u001b[0;34m=\u001b[0m \u001b[0mnp\u001b[0m\u001b[0;34m.\u001b[0m\u001b[0mzeros\u001b[0m\u001b[0;34m(\u001b[0m\u001b[0;36m10\u001b[0m\u001b[0;34m)\u001b[0m\u001b[0;34m\u001b[0m\u001b[0;34m\u001b[0m\u001b[0m\n\u001b[1;32m      2\u001b[0m \u001b[0mZ\u001b[0m\u001b[0;34m.\u001b[0m\u001b[0mflags\u001b[0m\u001b[0;34m.\u001b[0m\u001b[0mwriteable\u001b[0m \u001b[0;34m=\u001b[0m \u001b[0;32mFalse\u001b[0m\u001b[0;34m\u001b[0m\u001b[0;34m\u001b[0m\u001b[0m\n\u001b[0;32m----> 3\u001b[0;31m \u001b[0mZ\u001b[0m\u001b[0;34m[\u001b[0m\u001b[0;36m0\u001b[0m\u001b[0;34m]\u001b[0m \u001b[0;34m=\u001b[0m \u001b[0;36m1\u001b[0m\u001b[0;34m\u001b[0m\u001b[0;34m\u001b[0m\u001b[0m\n\u001b[0m",
            "\u001b[0;31mValueError\u001b[0m: assignment destination is read-only"
          ]
        }
      ],
      "source": [
        "Z = np.zeros(10)\n",
        "Z.flags.writeable = False        #read only\n",
        "Z[0] = 1"
      ]
    },
    {
      "cell_type": "markdown",
      "metadata": {
        "id": "z9KSrKcjuFIs"
      },
      "source": [
        "#### 44. Consider a random 10x2 matrix representing cartesian coordinates, convert them to polar coordinates (★★☆) \n",
        "(**hint**: np.sqrt, np.arctan2)"
      ]
    },
    {
      "cell_type": "code",
      "execution_count": 175,
      "metadata": {
        "id": "zifa0qAsuFIs",
        "colab": {
          "base_uri": "https://localhost:8080/"
        },
        "outputId": "9e5cd640-e99f-4ede-e59b-8007cc737689"
      },
      "outputs": [
        {
          "output_type": "stream",
          "name": "stdout",
          "text": [
            "[0.87359193 0.83067621 0.92914824 0.72246528 0.55051289 0.94422432\n",
            " 0.45138912 0.57602945 1.02264275 0.99347499]\n",
            "[1.13517683 0.94476287 1.52922401 1.31807356 1.05572295 0.92791844\n",
            " 0.32497666 0.60608712 0.55530239 1.48116931]\n"
          ]
        }
      ],
      "source": [
        "Z = np.random.random((10,2))\n",
        "X,Y = Z[:,0], Z[:,1]\n",
        "R = np.sqrt(X**2+Y**2)\n",
        "T = np.arctan2(Y,X)\n",
        "print(R)\n",
        "print(T)"
      ]
    },
    {
      "cell_type": "markdown",
      "metadata": {
        "id": "YCaMj7BBuFIs"
      },
      "source": [
        "#### 45. Create random vector of size 10 and replace the maximum value by 0 (★★☆) \n",
        "(**hint**: argmax)"
      ]
    },
    {
      "cell_type": "code",
      "execution_count": 178,
      "metadata": {
        "id": "Y6-ENGXiuFIs",
        "colab": {
          "base_uri": "https://localhost:8080/"
        },
        "outputId": "8bd74386-bab7-4a88-9bde-67ce3571832b"
      },
      "outputs": [
        {
          "output_type": "stream",
          "name": "stdout",
          "text": [
            "[5 4 6 8 5 3 7 0 3]\n"
          ]
        }
      ],
      "source": [
        "ap = np.array([5,4,6,8,5,3,7,9,3])\n",
        "ap[ap.argmax()] = 0\n",
        "print(ap)"
      ]
    },
    {
      "cell_type": "markdown",
      "metadata": {
        "id": "FVphMr72uFIt"
      },
      "source": [
        "#### 46. Create a structured array with `x` and `y` coordinates covering the \\[0,1\\]x\\[0,1\\] area (★★☆) \n",
        "(**hint**: np.meshgrid)"
      ]
    },
    {
      "cell_type": "code",
      "execution_count": 179,
      "metadata": {
        "id": "xcAqM-Z2uFIt",
        "colab": {
          "base_uri": "https://localhost:8080/"
        },
        "outputId": "42aa35f4-55d5-4302-b77d-0f197f8193ef"
      },
      "outputs": [
        {
          "output_type": "stream",
          "name": "stdout",
          "text": [
            "[[(0.  , 0.  ) (0.25, 0.  ) (0.5 , 0.  ) (0.75, 0.  ) (1.  , 0.  )]\n",
            " [(0.  , 0.25) (0.25, 0.25) (0.5 , 0.25) (0.75, 0.25) (1.  , 0.25)]\n",
            " [(0.  , 0.5 ) (0.25, 0.5 ) (0.5 , 0.5 ) (0.75, 0.5 ) (1.  , 0.5 )]\n",
            " [(0.  , 0.75) (0.25, 0.75) (0.5 , 0.75) (0.75, 0.75) (1.  , 0.75)]\n",
            " [(0.  , 1.  ) (0.25, 1.  ) (0.5 , 1.  ) (0.75, 1.  ) (1.  , 1.  )]]\n"
          ]
        }
      ],
      "source": [
        "ap = np.zeros((5,5), [('x',float),('y',float)])\n",
        "ap['x'], ap['y'] = np.meshgrid(np.linspace(0,1,5),\n",
        "                             np.linspace(0,1,5))\n",
        "print(ap)"
      ]
    },
    {
      "cell_type": "markdown",
      "metadata": {
        "id": "gwvB3E50uFIt"
      },
      "source": [
        "####  47. Given two arrays, X and Y, construct the Cauchy matrix C (Cij =1/(xi - yj)) \n",
        "(**hint**: np.subtract.outer)"
      ]
    },
    {
      "cell_type": "code",
      "execution_count": 180,
      "metadata": {
        "id": "_Kmq5ejuuFIt",
        "colab": {
          "base_uri": "https://localhost:8080/"
        },
        "outputId": "27cd9d0a-2fd8-41b8-9579-985c766fc077"
      },
      "outputs": [
        {
          "output_type": "stream",
          "name": "stdout",
          "text": [
            "3638.163637117973\n"
          ]
        }
      ],
      "source": [
        "X = np.arange(8)\n",
        "Y = X + 0.5\n",
        "C = 1.0 / np.subtract.outer(X, Y)\n",
        "print(np.linalg.det(C))"
      ]
    },
    {
      "cell_type": "markdown",
      "metadata": {
        "id": "r5GjpF6zuFIt"
      },
      "source": [
        "#### 48. Print the minimum and maximum representable value for each numpy scalar type (★★☆) \n",
        "(**hint**: np.iinfo, np.finfo, eps)"
      ]
    },
    {
      "cell_type": "code",
      "execution_count": 181,
      "metadata": {
        "id": "gnK2ffyeuFIt",
        "colab": {
          "base_uri": "https://localhost:8080/"
        },
        "outputId": "bd288b47-fbf2-4a62-ac4b-4ec98ba86f98"
      },
      "outputs": [
        {
          "output_type": "stream",
          "name": "stdout",
          "text": [
            "-128\n",
            "127\n",
            "-2147483648\n",
            "2147483647\n",
            "-9223372036854775808\n",
            "9223372036854775807\n",
            "-3.4028235e+38\n",
            "3.4028235e+38\n",
            "1.1920929e-07\n",
            "-1.7976931348623157e+308\n",
            "1.7976931348623157e+308\n",
            "2.220446049250313e-16\n"
          ]
        }
      ],
      "source": [
        "for dtype in [np.int8, np.int32, np.int64]:\n",
        "   print(np.iinfo(dtype).min)\n",
        "   print(np.iinfo(dtype).max)\n",
        "for dtype in [np.float32, np.float64]:\n",
        "   print(np.finfo(dtype).min)\n",
        "   print(np.finfo(dtype).max)\n",
        "   print(np.finfo(dtype).eps)"
      ]
    },
    {
      "cell_type": "markdown",
      "metadata": {
        "id": "e7KNwNuauFIt"
      },
      "source": [
        "#### 49. How to print all the values of an array? (★★☆) \n",
        "(**hint**: np.set\\_printoptions)"
      ]
    },
    {
      "cell_type": "code",
      "execution_count": 187,
      "metadata": {
        "id": "VRmqCOstuFIt",
        "colab": {
          "base_uri": "https://localhost:8080/"
        },
        "outputId": "044bf1c9-8aba-4301-f3e0-9727f9c4cd0b"
      },
      "outputs": [
        {
          "output_type": "stream",
          "name": "stdout",
          "text": [
            "[[1. 1. 1. 1. 1. 1.]\n",
            " [1. 1. 1. 1. 1. 1.]\n",
            " [1. 1. 1. 1. 1. 1.]\n",
            " [1. 1. 1. 1. 1. 1.]]\n"
          ]
        }
      ],
      "source": [
        "np.set_printoptions(threshold=2)\n",
        "Z = np.ones((4,6))\n",
        "print(Z)"
      ]
    },
    {
      "cell_type": "markdown",
      "metadata": {
        "id": "10xnqObOuFIt"
      },
      "source": [
        "#### 50. How to find the closest value (to a given scalar) in a vector? (★★☆) \n",
        "(**hint**: argmin)"
      ]
    },
    {
      "cell_type": "code",
      "execution_count": 193,
      "metadata": {
        "id": "jVdb-8YLuFIt",
        "colab": {
          "base_uri": "https://localhost:8080/"
        },
        "outputId": "d7014ab2-244a-4fbe-9fda-251588c69ec5"
      },
      "outputs": [
        {
          "output_type": "stream",
          "name": "stdout",
          "text": [
            "78\n"
          ]
        }
      ],
      "source": [
        "Z = np.arange(100)\n",
        "v = np.random.uniform(0,100)\n",
        "index = (np.abs(Z-v)).argmin()\n",
        "print(Z[index])"
      ]
    },
    {
      "cell_type": "markdown",
      "metadata": {
        "id": "5RJbKZBsuFIt"
      },
      "source": [
        "#### 51. Create a structured array representing a position (x,y) and a color (r,g,b) (★★☆) \n",
        "(**hint**: dtype)"
      ]
    },
    {
      "cell_type": "code",
      "execution_count": 195,
      "metadata": {
        "id": "lirjMlHmuFIt",
        "colab": {
          "base_uri": "https://localhost:8080/"
        },
        "outputId": "6eaa2473-ae85-4f60-ca96-5456125185e6"
      },
      "outputs": [
        {
          "output_type": "stream",
          "name": "stdout",
          "text": [
            "[((0., 0.), (0., 0., 0.)) ((0., 0.), (0., 0., 0.))\n",
            " ((0., 0.), (0., 0., 0.)) ... ((0., 0.), (0., 0., 0.))\n",
            " ((0., 0.), (0., 0., 0.)) ((0., 0.), (0., 0., 0.))]\n"
          ]
        },
        {
          "output_type": "stream",
          "name": "stderr",
          "text": [
            "/usr/local/lib/python3.7/dist-packages/ipykernel_launcher.py:5: FutureWarning: Passing (type, 1) or '1type' as a synonym of type is deprecated; in a future version of numpy, it will be understood as (type, (1,)) / '(1,)type'.\n",
            "  \"\"\"\n"
          ]
        }
      ],
      "source": [
        "ap = np.zeros(10, [ ('position', [ ('x', float, 1),\n",
        "                                  ('y', float, 1)]),\n",
        "                   ('color',    [ ('r', float, 1),\n",
        "                                  ('g', float, 1),\n",
        "                                  ('b', float, 1)])])\n",
        "print(ap)"
      ]
    },
    {
      "cell_type": "markdown",
      "metadata": {
        "id": "Lv1Pdx_2uFIu"
      },
      "source": [
        "#### 52. Consider a random vector with shape (100,2) representing coordinates, find point by point distances (★★☆) \n",
        "(**hint**: np.atleast\\_2d, T, np.sqrt)"
      ]
    },
    {
      "cell_type": "code",
      "execution_count": 198,
      "metadata": {
        "id": "zzhSLcFXuFIu",
        "colab": {
          "base_uri": "https://localhost:8080/"
        },
        "outputId": "936c6be4-8db7-4465-aa50-532d621594be"
      },
      "outputs": [
        {
          "output_type": "stream",
          "name": "stdout",
          "text": [
            "[[0.         0.75085973 0.99805168 ... 0.19504717 0.94404117 0.54798819]\n",
            " [0.75085973 0.         0.74302133 ... 0.66911697 0.7363256  0.84563488]\n",
            " [0.99805168 0.74302133 0.         ... 1.06839228 0.06535028 0.60579562]\n",
            " ...\n",
            " [0.19504717 0.66911697 1.06839228 ... 0.         1.02181375 0.70480629]\n",
            " [0.94404117 0.7363256  0.06535028 ... 1.02181375 0.         0.54069178]\n",
            " [0.54798819 0.84563488 0.60579562 ... 0.70480629 0.54069178 0.        ]]\n",
            "[[0.         0.36763805 0.22568866 ... 0.77119607 0.69396933 0.78123664]\n",
            " [0.36763805 0.         0.14687669 ... 0.48939039 0.38094179 0.48249913]\n",
            " [0.22568866 0.14687669 0.         ... 0.56953643 0.47943455 0.60829237]\n",
            " ...\n",
            " [0.77119607 0.48939039 0.56953643 ... 0.         0.12495826 0.74015417]\n",
            " [0.69396933 0.38094179 0.47943455 ... 0.12495826 0.         0.61972834]\n",
            " [0.78123664 0.48249913 0.60829237 ... 0.74015417 0.61972834 0.        ]]\n"
          ]
        }
      ],
      "source": [
        "Z = np.random.random((10,2))\n",
        "X,Y = np.atleast_2d(Z[:,0], Z[:,1])\n",
        "D = np.sqrt( (X-X.T)**2 + (Y-Y.T)**2)\n",
        "print(D)\n",
        "\n",
        "# Much faster with scipy\n",
        "import scipy\n",
        "# Thanks Gavin Heverly-Coulson (#issue 1)\n",
        "import scipy.spatial\n",
        "\n",
        "Z = np.random.random((10,2))\n",
        "D = scipy.spatial.distance.cdist(Z,Z)\n",
        "print(D)"
      ]
    },
    {
      "cell_type": "markdown",
      "metadata": {
        "id": "Sl9YjjvIuFIu"
      },
      "source": [
        "#### 53. How to convert a float (32 bits) array into an integer (32 bits) in place? \n",
        "(**hint**: astype(copy=False))"
      ]
    },
    {
      "cell_type": "code",
      "execution_count": 197,
      "metadata": {
        "id": "UZFPH0rquFIu",
        "colab": {
          "base_uri": "https://localhost:8080/"
        },
        "outputId": "e6f05fe5-a7a5-46f0-f1ff-848938290263"
      },
      "outputs": [
        {
          "output_type": "stream",
          "name": "stdout",
          "text": [
            "[ 0.  1.  2. ... 97. 98. 99.]\n"
          ]
        }
      ],
      "source": [
        "ap = np.arange(10, dtype=np.int32)\n",
        "ap = Z.astype(np.float32, copy=False)\n",
        "print(ap)"
      ]
    },
    {
      "cell_type": "markdown",
      "metadata": {
        "id": "b8LK4ar0uFIu"
      },
      "source": [
        "#### 54. How to read the following file? (★★☆) \n",
        "(**hint**: np.genfromtxt)"
      ]
    },
    {
      "cell_type": "markdown",
      "metadata": {
        "id": "yKKJIYaBuFIu"
      },
      "source": [
        "```\n",
        "1, 2, 3, 4, 5\n",
        "6,  ,  , 7, 8\n",
        " ,  , 9,10,11\n",
        "```"
      ]
    },
    {
      "cell_type": "code",
      "execution_count": 201,
      "metadata": {
        "id": "_ISCOZd-uFIu",
        "colab": {
          "base_uri": "https://localhost:8080/"
        },
        "outputId": "ad1dfe65-7e18-45be-e858-ec8a1d48efb7"
      },
      "outputs": [
        {
          "output_type": "stream",
          "name": "stdout",
          "text": [
            "[[ 1  2  3  4  5]\n",
            " [ 6 -1 -1  7  8]\n",
            " [-1 -1  9 10 11]]\n"
          ]
        },
        {
          "output_type": "stream",
          "name": "stderr",
          "text": [
            "/usr/local/lib/python3.7/dist-packages/ipykernel_launcher.py:5: DeprecationWarning: `np.int` is a deprecated alias for the builtin `int`. To silence this warning, use `int` by itself. Doing this will not modify any behavior and is safe. When replacing `np.int`, you may wish to use e.g. `np.int64` or `np.int32` to specify the precision. If you wish to review your current use, check the release note link for additional information.\n",
            "Deprecated in NumPy 1.20; for more details and guidance: https://numpy.org/devdocs/release/1.20.0-notes.html#deprecations\n",
            "  \"\"\"\n"
          ]
        }
      ],
      "source": [
        "from io import StringIO\n",
        "s = StringIO(\"\"\"1, 2, 3, 4, 5\\n\n",
        "                6,  ,  , 7, 8\\n\n",
        "                 ,  , 9,10,11\\n\"\"\")\n",
        "Z = np.genfromtxt(s, delimiter=\",\", dtype=np.int)\n",
        "print(Z)"
      ]
    },
    {
      "cell_type": "markdown",
      "metadata": {
        "id": "6eRMKB2quFIu"
      },
      "source": [
        "#### 55. What is the equivalent of enumerate for numpy arrays? (★★☆) \n",
        "(**hint**: np.ndenumerate, np.ndindex)"
      ]
    },
    {
      "cell_type": "code",
      "execution_count": 204,
      "metadata": {
        "id": "3QE_DsaDuFIu",
        "colab": {
          "base_uri": "https://localhost:8080/"
        },
        "outputId": "9a85c283-e2e7-4274-8e65-1974c6b2c777"
      },
      "outputs": [
        {
          "output_type": "stream",
          "name": "stdout",
          "text": [
            "(0, 0) 0\n",
            "(0, 1) 1\n",
            "(0, 2) 2\n",
            "(1, 0) 3\n",
            "(1, 1) 4\n",
            "(1, 2) 5\n",
            "(2, 0) 6\n",
            "(2, 1) 7\n",
            "(2, 2) 8\n",
            "(0, 0) 0\n",
            "(0, 1) 1\n",
            "(0, 2) 2\n",
            "(1, 0) 3\n",
            "(1, 1) 4\n",
            "(1, 2) 5\n",
            "(2, 0) 6\n",
            "(2, 1) 7\n",
            "(2, 2) 8\n"
          ]
        }
      ],
      "source": [
        "ap = np.arange(9).reshape(3,3)\n",
        "for index, value in np.ndenumerate(ap):\n",
        "    print(index, value)\n",
        "for index in np.ndindex(ap.shape):\n",
        "    print(index, ap[index])"
      ]
    },
    {
      "cell_type": "markdown",
      "metadata": {
        "id": "E2MnTIFMuFIv"
      },
      "source": [
        "#### 56. Generate a generic 2D Gaussian-like array (★★☆) \n",
        "(**hint**: np.meshgrid, np.exp)"
      ]
    },
    {
      "cell_type": "code",
      "execution_count": 205,
      "metadata": {
        "id": "iT7S3xaFuFIv",
        "colab": {
          "base_uri": "https://localhost:8080/"
        },
        "outputId": "d9ce8f71-4400-4e27-d8e4-408494e9698f"
      },
      "outputs": [
        {
          "output_type": "stream",
          "name": "stdout",
          "text": [
            "[[0.36787944 0.44822088 0.51979489 ... 0.51979489 0.44822088 0.36787944]\n",
            " [0.44822088 0.54610814 0.63331324 ... 0.63331324 0.54610814 0.44822088]\n",
            " [0.51979489 0.63331324 0.73444367 ... 0.73444367 0.63331324 0.51979489]\n",
            " ...\n",
            " [0.51979489 0.63331324 0.73444367 ... 0.73444367 0.63331324 0.51979489]\n",
            " [0.44822088 0.54610814 0.63331324 ... 0.63331324 0.54610814 0.44822088]\n",
            " [0.36787944 0.44822088 0.51979489 ... 0.51979489 0.44822088 0.36787944]]\n"
          ]
        }
      ],
      "source": [
        "X, Y = np.meshgrid(np.linspace(-1,1,10), np.linspace(-1,1,10))\n",
        "D = np.sqrt(X*X+Y*Y)\n",
        "sigma, mu = 1.0, 0.0\n",
        "G = np.exp(-( (D-mu)**2 / ( 2.0 * sigma**2 ) ) )\n",
        "print(G)"
      ]
    },
    {
      "cell_type": "markdown",
      "metadata": {
        "id": "9WpeXh4MuFIv"
      },
      "source": [
        "#### 57. How to randomly place p elements in a 2D array? (★★☆) \n",
        "(**hint**: np.put, np.random.choice)"
      ]
    },
    {
      "cell_type": "code",
      "execution_count": 206,
      "metadata": {
        "id": "bUjYhM-wuFIv",
        "colab": {
          "base_uri": "https://localhost:8080/"
        },
        "outputId": "fd68848b-b18b-4819-992c-4caa41a6228e"
      },
      "outputs": [
        {
          "output_type": "stream",
          "name": "stdout",
          "text": [
            "[[0. 0. 0. ... 0. 0. 0.]\n",
            " [0. 0. 0. ... 0. 0. 0.]\n",
            " [0. 0. 0. ... 0. 0. 0.]\n",
            " ...\n",
            " [0. 0. 1. ... 0. 0. 0.]\n",
            " [0. 0. 0. ... 0. 0. 0.]\n",
            " [1. 0. 0. ... 0. 0. 0.]]\n"
          ]
        }
      ],
      "source": [
        "n = 10\n",
        "p = 3\n",
        "Z = np.zeros((n,n))\n",
        "np.put(Z, np.random.choice(range(n*n), p, replace=False),1)\n",
        "print(Z)"
      ]
    },
    {
      "cell_type": "markdown",
      "metadata": {
        "id": "AfP0VMNVuFIv"
      },
      "source": [
        "#### 58. Subtract the mean of each row of a matrix (★★☆) \n",
        "(**hint**: mean(axis=,keepdims=))"
      ]
    },
    {
      "cell_type": "code",
      "execution_count": 207,
      "metadata": {
        "id": "khhQDKwXuFIv",
        "colab": {
          "base_uri": "https://localhost:8080/"
        },
        "outputId": "c41fc83f-83bf-4e3a-9638-315ce506a2b8"
      },
      "outputs": [
        {
          "output_type": "stream",
          "name": "stdout",
          "text": [
            "[[-0.0426184  -0.19029303 -0.21621051 ...  0.49059856 -0.0894513\n",
            "   0.0414624 ]\n",
            " [ 0.32701908 -0.53255357  0.32959091 ...  0.30445621  0.2859325\n",
            "   0.30999723]\n",
            " [ 0.26845205  0.34913182  0.28595732 ... -0.0986626  -0.28516568\n",
            "  -0.16178392]\n",
            " [ 0.18956951 -0.02217843 -0.33359822 ... -0.47048827  0.42179093\n",
            "  -0.00319235]\n",
            " [ 0.44432523 -0.24185759  0.2535512  ... -0.42560895  0.39263984\n",
            "  -0.0051684 ]]\n"
          ]
        }
      ],
      "source": [
        "X = np.random.rand(5, 10)\n",
        "\n",
        "# Recent versions of numpy\n",
        "Y = X - X.mean(axis=1, keepdims=True)\n",
        "print(Y)"
      ]
    },
    {
      "cell_type": "markdown",
      "metadata": {
        "id": "EPZ7wpQmuFIv"
      },
      "source": [
        "#### 59. How to sort an array by the nth column? (★★☆) \n",
        "(**hint**: argsort)"
      ]
    },
    {
      "cell_type": "code",
      "execution_count": 208,
      "metadata": {
        "id": "a1gk3e46uFIv",
        "colab": {
          "base_uri": "https://localhost:8080/"
        },
        "outputId": "632c4644-9a6c-4852-d970-5893986ec58c"
      },
      "outputs": [
        {
          "output_type": "stream",
          "name": "stdout",
          "text": [
            "[[9 3 1]\n",
            " [0 6 3]\n",
            " [6 0 6]]\n",
            "[[6 0 6]\n",
            " [9 3 1]\n",
            " [0 6 3]]\n"
          ]
        }
      ],
      "source": [
        "ap = np.random.randint(0,10,(3,3))\n",
        "print(ap)\n",
        "print(ap[ap[:,1].argsort()])"
      ]
    },
    {
      "cell_type": "markdown",
      "metadata": {
        "id": "o5LHo0o3uFIv"
      },
      "source": [
        "#### 60. How to tell if a given 2D array has null columns? (★★☆) \n",
        "(**hint**: any, ~)"
      ]
    },
    {
      "cell_type": "code",
      "execution_count": 222,
      "metadata": {
        "id": "DfI1Lgd8uFIv",
        "colab": {
          "base_uri": "https://localhost:8080/"
        },
        "outputId": "00bc488a-664d-494c-9065-95457a701fa1"
      },
      "outputs": [
        {
          "output_type": "stream",
          "name": "stdout",
          "text": [
            "True\n"
          ]
        }
      ],
      "source": [
        "ap = np.random.randint(0,3,(3,10))\n",
        "print((~ap.any(axis=0)).any())\n"
      ]
    },
    {
      "cell_type": "markdown",
      "metadata": {
        "id": "lRrGYGr4uFIv"
      },
      "source": [
        "#### 61. Find the nearest value from a given value in an array (★★☆) \n",
        "(**hint**: np.abs, argmin, flat)"
      ]
    },
    {
      "cell_type": "code",
      "execution_count": 223,
      "metadata": {
        "id": "FcITanDtuFIv",
        "colab": {
          "base_uri": "https://localhost:8080/"
        },
        "outputId": "7d819b7e-5fc9-4b09-9089-3c87818f38c0"
      },
      "outputs": [
        {
          "output_type": "stream",
          "name": "stdout",
          "text": [
            "0.5004943620043345\n"
          ]
        }
      ],
      "source": [
        "Z = np.random.uniform(0,1,10)\n",
        "z = 0.5\n",
        "m = Z.flat[np.abs(Z - z).argmin()]\n",
        "print(m)"
      ]
    },
    {
      "cell_type": "markdown",
      "metadata": {
        "id": "Ed4AGNYauFIw"
      },
      "source": [
        "#### 62. Considering two arrays with shape (1,3) and (3,1), how to compute their sum using an iterator? (★★☆) \n",
        "(**hint**: np.nditer)"
      ]
    },
    {
      "cell_type": "code",
      "execution_count": 224,
      "metadata": {
        "id": "kc36ZpJ3uFIw",
        "colab": {
          "base_uri": "https://localhost:8080/"
        },
        "outputId": "505623bf-2657-409c-d677-4a578eeceb58"
      },
      "outputs": [
        {
          "output_type": "stream",
          "name": "stdout",
          "text": [
            "[[0 1 2]\n",
            " [1 2 3]\n",
            " [2 3 4]]\n"
          ]
        }
      ],
      "source": [
        "A = np.arange(3).reshape(3,1)\n",
        "B = np.arange(3).reshape(1,3)\n",
        "it = np.nditer([A,B,None])\n",
        "for x,y,z in it: z[...] = x + y\n",
        "print(it.operands[2])"
      ]
    },
    {
      "cell_type": "markdown",
      "metadata": {
        "id": "ZmRTyOwUuFIw"
      },
      "source": [
        "#### 63. Create an array class that has a name attribute (★★☆) \n",
        "(**hint**: class method)"
      ]
    },
    {
      "cell_type": "code",
      "execution_count": 230,
      "metadata": {
        "id": "8LWxmhL2uFIw",
        "colab": {
          "base_uri": "https://localhost:8080/"
        },
        "outputId": "3a215553-4765-40fd-e794-0a9bdcf676e0"
      },
      "outputs": [
        {
          "output_type": "stream",
          "name": "stdout",
          "text": [
            "range_70\n"
          ]
        }
      ],
      "source": [
        "class NamedArray(np.ndarray):\n",
        "    def __new__(cls, array, name=\"no name\"):\n",
        "        obj = np.asarray(array).view(cls)\n",
        "        obj.name = name\n",
        "        return obj\n",
        "    def __array_finalize__(self, obj):\n",
        "        if obj is None: return\n",
        "        self.info = getattr(obj, 'name', \"no name\")\n",
        "\n",
        "ap = NamedArray(np.arange(70), \"range_70\")\n",
        "print (ap.name)"
      ]
    },
    {
      "cell_type": "markdown",
      "metadata": {
        "id": "VgUdITKWuFIw"
      },
      "source": [
        "#### 64. Consider a given vector, how to add 1 to each element indexed by a second vector (be careful with repeated indices)? (★★★) \n",
        "(**hint**: np.bincount | np.add.at)"
      ]
    },
    {
      "cell_type": "code",
      "execution_count": 238,
      "metadata": {
        "id": "jceVc0muuFIw",
        "colab": {
          "base_uri": "https://localhost:8080/"
        },
        "outputId": "7cfbeeb5-a3be-4b7c-ba28-40c66d9b0fa5"
      },
      "outputs": [
        {
          "output_type": "stream",
          "name": "stdout",
          "text": [
            "3.0 6.0 3.0 3.0 2.0 5.0 3.0 2.0 3.0 5.0\n"
          ]
        }
      ],
      "source": [
        "ap = np.ones(10)\n",
        "I = np.random.randint(0,len(ap),25)\n",
        "np.add.at(ap, I, 1)\n",
        "print(*ap)\n"
      ]
    },
    {
      "cell_type": "markdown",
      "metadata": {
        "id": "kLZ12QawuFIw"
      },
      "source": [
        "#### 65. How to accumulate elements of a vector (X) to an array (F) based on an index list (I)? (★★★) \n",
        "(**hint**: np.bincount)"
      ]
    },
    {
      "cell_type": "code",
      "execution_count": 241,
      "metadata": {
        "id": "wMCZMWKjuFIw",
        "colab": {
          "base_uri": "https://localhost:8080/"
        },
        "outputId": "fb5d51dc-dfd2-4720-dfe5-b72cca6b1e59"
      },
      "outputs": [
        {
          "output_type": "execute_result",
          "data": {
            "text/plain": [
              "array([0., 0., 7., ..., 8., 3., 4.])"
            ]
          },
          "metadata": {},
          "execution_count": 241
        }
      ],
      "source": [
        "a=[7,4,6,8,4,2]\n",
        "b=[3,5,8,4,2,7]\n",
        "np.bincount(a,b)\n"
      ]
    },
    {
      "cell_type": "markdown",
      "metadata": {
        "id": "qQhYE_E-uFIw"
      },
      "source": [
        "#### 66. Considering a (w,h,3) image of (dtype=ubyte), compute the number of unique colors (★★★) \n",
        "(**hint**: np.unique)"
      ]
    },
    {
      "cell_type": "code",
      "execution_count": 243,
      "metadata": {
        "id": "iXT64x8XuFIw",
        "colab": {
          "base_uri": "https://localhost:8080/"
        },
        "outputId": "9178248f-4f3e-4f72-f245-62c5008c6248"
      },
      "outputs": [
        {
          "output_type": "stream",
          "name": "stdout",
          "text": [
            "[0 1]\n"
          ]
        }
      ],
      "source": [
        "w,h = 17,17\n",
        "I = np.random.randint(0,2,(h,w,3)).astype(np.ubyte)\n",
        "F = I[...,0]*256*256 + I[...,1]*256 +I[...,2]\n",
        "n = len(np.unique(F))\n",
        "print(np.unique(I))"
      ]
    },
    {
      "cell_type": "markdown",
      "metadata": {
        "id": "UPjTckEzuFIw"
      },
      "source": [
        "#### 67. Considering a four dimensions array, how to get sum over the last two axis at once? (★★★) \n",
        "(**hint**: sum(axis=(-2,-1)))"
      ]
    },
    {
      "cell_type": "code",
      "execution_count": 244,
      "metadata": {
        "id": "zecH21ZKuFIx",
        "colab": {
          "base_uri": "https://localhost:8080/"
        },
        "outputId": "06e3b9e9-46ef-4792-f9cf-2b8a54d6cdc3"
      },
      "outputs": [
        {
          "output_type": "stream",
          "name": "stdout",
          "text": [
            "[[61 47 54 52]\n",
            " [51 58 63 56]\n",
            " [52 57 58 68]]\n",
            "[[61 47 54 52]\n",
            " [51 58 63 56]\n",
            " [52 57 58 68]]\n"
          ]
        }
      ],
      "source": [
        "A = np.random.randint(0,10,(3,4,3,4))     # solution by passing a tuple of axes (introduced in numpy 1.7.0)\n",
        "sum = A.sum(axis=(-2,-1))\n",
        "print(sum)\n",
        "                                          # solution by flattening the last two dimensions into one\n",
        "                                          # (useful for functions that don't accept tuples for axis argument)\n",
        "sum = A.reshape(A.shape[:-2] + (-1,)).sum(axis=-1)\n",
        "print(sum)"
      ]
    },
    {
      "cell_type": "markdown",
      "metadata": {
        "id": "gMgdCB-7uFIx"
      },
      "source": [
        "#### 68. Considering a one-dimensional vector D, how to compute means of subsets of D using a vector S of same size describing subset  indices? (★★★) \n",
        "(**hint**: np.bincount)"
      ]
    },
    {
      "cell_type": "code",
      "execution_count": 245,
      "metadata": {
        "id": "1Rjmoc3QuFIx",
        "colab": {
          "base_uri": "https://localhost:8080/"
        },
        "outputId": "bdaa4148-5e95-4409-edaf-94df9319b9a5"
      },
      "outputs": [
        {
          "output_type": "stream",
          "name": "stdout",
          "text": [
            "[0.4916729  0.58936883 0.46943598 ... 0.58590411 0.52495487 0.67374948]\n",
            "0    0.491673\n",
            "1    0.589369\n",
            "2    0.469436\n",
            "3    0.459843\n",
            "4    0.439012\n",
            "5    0.603737\n",
            "6    0.608237\n",
            "7    0.585904\n",
            "8    0.524955\n",
            "9    0.673749\n",
            "dtype: float64\n"
          ]
        }
      ],
      "source": [
        "D = np.random.uniform(0,1,100)\n",
        "S = np.random.randint(0,10,100)\n",
        "D_sums = np.bincount(S, weights=D)\n",
        "D_counts = np.bincount(S)\n",
        "D_means = D_sums / D_counts\n",
        "print(D_means)\n",
        "\n",
        "# Pandas solution as a reference due to more intuitive code\n",
        "import pandas as pd\n",
        "print(pd.Series(D).groupby(S).mean())"
      ]
    },
    {
      "cell_type": "markdown",
      "metadata": {
        "id": "dIYIoMmiuFIx"
      },
      "source": [
        "#### 69. How to get the diagonal of a dot product? (★★★) \n",
        "(**hint**: np.diag)"
      ]
    },
    {
      "cell_type": "code",
      "execution_count": 250,
      "metadata": {
        "id": "Qf_todgjuFIx",
        "colab": {
          "base_uri": "https://localhost:8080/"
        },
        "outputId": "42f7bc73-4442-47f9-be31-b343a80c99ba"
      },
      "outputs": [
        {
          "output_type": "stream",
          "name": "stdout",
          "text": [
            "[1.72634421 1.34468586 1.10277808 1.53940627 1.18648711]\n",
            "[1.72634421 1.34468586 1.10277808 1.53940627 1.18648711]\n"
          ]
        }
      ],
      "source": [
        "A = np.random.uniform(0,1,(5,5))\n",
        "B = np.random.uniform(0,1,(5,5))\n",
        "print(np.sum(A * B.T, axis=1))\n",
        "print(np.einsum(\"ij,ji->i\", A, B))"
      ]
    },
    {
      "cell_type": "markdown",
      "metadata": {
        "id": "TcxVt3a3uFIx"
      },
      "source": [
        "#### 70. Consider the vector \\[1, 2, 3, 4, 5\\], how to build a new vector with 3 consecutive zeros interleaved between each value? (★★★) \n",
        "(**hint**: array\\[::4\\])"
      ]
    },
    {
      "cell_type": "code",
      "execution_count": 251,
      "metadata": {
        "id": "wxd2vxEeuFIx",
        "colab": {
          "base_uri": "https://localhost:8080/"
        },
        "outputId": "5ce2aeb0-ee43-462d-f2f5-63e11a6a418a"
      },
      "outputs": [
        {
          "output_type": "stream",
          "name": "stdout",
          "text": [
            "[1. 0. 0. ... 0. 0. 5.]\n"
          ]
        }
      ],
      "source": [
        "ap = np.array([1,2,3,4,5])\n",
        "nz = 3\n",
        "Z0 = np.zeros(len(ap) + (len(ap)-1)*(nz))\n",
        "Z0[::nz+1] = ap\n",
        "print(Z0)"
      ]
    },
    {
      "cell_type": "markdown",
      "metadata": {
        "id": "TfzCTAfcuFIx"
      },
      "source": [
        "#### 71. Consider an array of dimension (5,5,3), how to mulitply it by an array with dimensions (5,5)? (★★★) \n",
        "(**hint**: array\\[:, :, None\\])"
      ]
    },
    {
      "cell_type": "code",
      "execution_count": 253,
      "metadata": {
        "collapsed": true,
        "id": "hNUc_8thuFIx",
        "colab": {
          "base_uri": "https://localhost:8080/"
        },
        "outputId": "3f40095e-7dbf-47f3-8873-9bbcf65c4f3f"
      },
      "outputs": [
        {
          "output_type": "stream",
          "name": "stdout",
          "text": [
            "[[[7. 7. 7.]\n",
            "  [7. 7. 7.]\n",
            "  [7. 7. 7.]\n",
            "  [7. 7. 7.]\n",
            "  [7. 7. 7.]]\n",
            "\n",
            " [[7. 7. 7.]\n",
            "  [7. 7. 7.]\n",
            "  [7. 7. 7.]\n",
            "  [7. 7. 7.]\n",
            "  [7. 7. 7.]]\n",
            "\n",
            " [[7. 7. 7.]\n",
            "  [7. 7. 7.]\n",
            "  [7. 7. 7.]\n",
            "  [7. 7. 7.]\n",
            "  [7. 7. 7.]]\n",
            "\n",
            " [[7. 7. 7.]\n",
            "  [7. 7. 7.]\n",
            "  [7. 7. 7.]\n",
            "  [7. 7. 7.]\n",
            "  [7. 7. 7.]]\n",
            "\n",
            " [[7. 7. 7.]\n",
            "  [7. 7. 7.]\n",
            "  [7. 7. 7.]\n",
            "  [7. 7. 7.]\n",
            "  [7. 7. 7.]]]\n"
          ]
        }
      ],
      "source": [
        "A = np.ones((5,5,3))\n",
        "B = 7*np.ones((5,5))\n",
        "print(A * B[:,:,None])"
      ]
    },
    {
      "cell_type": "markdown",
      "metadata": {
        "id": "zyTSN_GLuFIx"
      },
      "source": [
        "#### 72. How to swap two rows of an array? (★★★) \n",
        "(**hint**: array\\[\\[\\]\\] = array\\[\\[\\]\\])"
      ]
    },
    {
      "cell_type": "code",
      "execution_count": 260,
      "metadata": {
        "id": "mG0SRjmkuFIx",
        "colab": {
          "base_uri": "https://localhost:8080/"
        },
        "outputId": "b2379779-f6fe-46c3-dbd3-c270f6cdef0e"
      },
      "outputs": [
        {
          "output_type": "stream",
          "name": "stdout",
          "text": [
            "normal before swap \n",
            " [[ 5  6  7  8  9]\n",
            " [ 0  1  2  3  4]\n",
            " [10 11 12 13 14]\n",
            " [15 16 17 18 19]\n",
            " [20 21 22 23 24]]\n",
            "[[ 0  1  2  3  4]\n",
            " [ 5  6  7  8  9]\n",
            " [10 11 12 13 14]\n",
            " [15 16 17 18 19]\n",
            " [20 21 22 23 24]]\n"
          ]
        }
      ],
      "source": [
        "A = np.array([[ 5 , 6 , 7 , 8 , 9],[ 0 , 1,  2 , 3 , 4],[10 ,11 ,12 ,13 ,14],[15 ,16 ,17 ,18 ,19],[20 ,21 ,22 ,23 ,24]])\n",
        "print('normal before swap \\n',A)\n",
        "A[[0,1]] = A[[1,0]]\n",
        "print(A)"
      ]
    },
    {
      "cell_type": "markdown",
      "metadata": {
        "id": "RMEIFqxnuFIy"
      },
      "source": [
        "#### 73. Consider a set of 10 triplets describing 10 triangles (with shared vertices), find the set of unique line segments composing all the  triangles (★★★) \n",
        "(**hint**: repeat, np.roll, np.sort, view, np.unique)"
      ]
    },
    {
      "cell_type": "code",
      "execution_count": 263,
      "metadata": {
        "id": "vGGEGaebuFIy",
        "colab": {
          "base_uri": "https://localhost:8080/"
        },
        "outputId": "c46a4201-7dd0-4f2c-a0d4-37f55e8ad79e"
      },
      "outputs": [
        {
          "output_type": "stream",
          "name": "stdout",
          "text": [
            "[( 6, 47) ( 6, 75) ( 6, 82) ... (67, 81) (70, 74) (82, 93)]\n"
          ]
        }
      ],
      "source": [
        "faces = np.random.randint(0,100,(10,3))\n",
        "F = np.roll(faces.repeat(2,axis=1),-1,axis=1)\n",
        "F = F.reshape(len(F)*3,2)\n",
        "F = np.sort(F,axis=1)\n",
        "G = F.view( dtype=[('p0',F.dtype),('p1',F.dtype)] )\n",
        "G = np.unique(G)\n",
        "print(G)"
      ]
    },
    {
      "cell_type": "markdown",
      "metadata": {
        "id": "1639ypC6uFIy"
      },
      "source": [
        "#### 74. Given an array C that is a bincount, how to produce an array A such that np.bincount(A) == C? (★★★) \n",
        "(**hint**: np.repeat)"
      ]
    },
    {
      "cell_type": "code",
      "execution_count": 268,
      "metadata": {
        "id": "HsTHvs-kuFIy",
        "colab": {
          "base_uri": "https://localhost:8080/"
        },
        "outputId": "eafad596-86bc-46cf-cd50-2b9b2f05e44d"
      },
      "outputs": [
        {
          "output_type": "stream",
          "name": "stdout",
          "text": [
            "[1 1 2 ... 4 4 6]\n"
          ]
        }
      ],
      "source": [
        "C = np.bincount([1,1,2,3,4,4,6])\n",
        "A = np.repeat(np.arange(len(C)), C)\n",
        "print(A)"
      ]
    },
    {
      "cell_type": "markdown",
      "metadata": {
        "id": "tB6rAaRXuFIy"
      },
      "source": [
        "#### 75. How to compute averages using a sliding window over an array? (★★★) \n",
        "(**hint**: np.cumsum)"
      ]
    },
    {
      "cell_type": "code",
      "execution_count": 269,
      "metadata": {
        "id": "6LCOdEpUuFIz",
        "colab": {
          "base_uri": "https://localhost:8080/"
        },
        "outputId": "821f44cb-7b8d-4a75-c37f-0a439c63ffb3"
      },
      "outputs": [
        {
          "output_type": "stream",
          "name": "stdout",
          "text": [
            "[ 1.  2.  3. ... 16. 17. 18.]\n"
          ]
        }
      ],
      "source": [
        "def moving_average(a, n=3) :\n",
        "    ret = np.cumsum(a, dtype=float)\n",
        "    ret[n:] = ret[n:] - ret[:-n]\n",
        "    return ret[n - 1:] / n\n",
        "Z = np.arange(20)\n",
        "print(moving_average(Z, n=3))"
      ]
    },
    {
      "cell_type": "markdown",
      "metadata": {
        "id": "S1RdVsZVuFIz"
      },
      "source": [
        "#### 76. Consider a one-dimensional array Z, build a two-dimensional array whose first row is (Z\\[0\\],Z\\[1\\],Z\\[2\\]) and each subsequent row is  shifted by 1 (last row should be (Z\\[-3\\],Z\\[-2\\],Z\\[-1\\]) (★★★) \n",
        "(**hint**: from numpy.lib import stride_tricks)"
      ]
    },
    {
      "cell_type": "code",
      "execution_count": 274,
      "metadata": {
        "id": "2asKIxaNuFIz",
        "colab": {
          "base_uri": "https://localhost:8080/"
        },
        "outputId": "aa866e19-0bc4-413b-b674-5a25df81855d"
      },
      "outputs": [
        {
          "output_type": "stream",
          "name": "stdout",
          "text": [
            "[[0 1 2]\n",
            " [1 2 3]\n",
            " [2 3 4]\n",
            " ...\n",
            " [5 6 7]\n",
            " [6 7 8]\n",
            " [7 8 9]]\n"
          ]
        }
      ],
      "source": [
        "from numpy.lib import stride_tricks\n",
        "def rolling(a, window):\n",
        "    shape = (a.size - window + 1, window)\n",
        "    strides = (a.itemsize, a.itemsize)\n",
        "    return stride_tricks.as_strided(a, shape=shape, strides=strides)\n",
        "ap = rolling(np.arange(10), 3)\n",
        "print(ap)"
      ]
    },
    {
      "cell_type": "markdown",
      "metadata": {
        "id": "9vNDYZOpuFIz"
      },
      "source": [
        "#### 77. How to negate a boolean, or to change the sign of a float inplace? (★★★) \n",
        "(**hint**: np.logical_not, np.negative)"
      ]
    },
    {
      "cell_type": "code",
      "execution_count": 278,
      "metadata": {
        "id": "UwUg-9-duFIz",
        "colab": {
          "base_uri": "https://localhost:8080/"
        },
        "outputId": "2c9b02be-a1d8-40a9-846d-a36141a57b8f"
      },
      "outputs": [
        {
          "output_type": "execute_result",
          "data": {
            "text/plain": [
              "array([ 0.10254015, -0.73919855,  0.14985606, ...,  0.08366074,\n",
              "       -0.40652625,  0.58458958])"
            ]
          },
          "metadata": {},
          "execution_count": 278
        }
      ],
      "source": [
        "ap = np.random.randint(0,2,100)\n",
        "np.logical_not(ap, out=ap)\n",
        "\n",
        "ap= np.random.uniform(-1.0,1.0,100)\n",
        "np.negative(ap, out=ap)"
      ]
    },
    {
      "cell_type": "markdown",
      "metadata": {
        "id": "GOmqDPJVuFI0"
      },
      "source": [
        "#### 78. Consider 2 sets of points P0,P1 describing lines (2d) and a point p, how to compute distance from p to each line i  (P0\\[i\\],P1\\[i\\])? (★★★)"
      ]
    },
    {
      "cell_type": "code",
      "execution_count": 276,
      "metadata": {
        "id": "zajp3SycuFI0",
        "colab": {
          "base_uri": "https://localhost:8080/"
        },
        "outputId": "a660cb5c-56f2-43f2-8575-c8623607687b"
      },
      "outputs": [
        {
          "output_type": "stream",
          "name": "stdout",
          "text": [
            "[13.63288697  8.96097331  7.8733822  ...  2.87010594  3.8692894\n",
            " 14.3586478 ]\n"
          ]
        }
      ],
      "source": [
        "def distance(P0, P1, p):\n",
        "    T = P1 - P0\n",
        "    L = (T**2).sum(axis=1)\n",
        "    U = -((P0[:,0]-p[...,0])*T[:,0] + (P0[:,1]-p[...,1])*T[:,1]) / L\n",
        "    U = U.reshape(len(U),1)\n",
        "    D = P0 + U*T - p\n",
        "    return np.sqrt((D**2).sum(axis=1))\n",
        "\n",
        "P0 = np.random.uniform(-10,10,(10,2))\n",
        "P1 = np.random.uniform(-10,10,(10,2))\n",
        "p  = np.random.uniform(-10,10,( 1,2))\n",
        "print(distance(P0, P1, p))"
      ]
    },
    {
      "cell_type": "markdown",
      "metadata": {
        "id": "Xd1GOe5guFI0"
      },
      "source": [
        "#### 79. Consider 2 sets of points P0,P1 describing lines (2d) and a set of points P, how to compute distance from each point j (P\\[j\\]) to each line i (P0\\[i\\],P1\\[i\\])? (★★★)"
      ]
    },
    {
      "cell_type": "code",
      "execution_count": 277,
      "metadata": {
        "id": "W1RPzdkyuFI0",
        "colab": {
          "base_uri": "https://localhost:8080/"
        },
        "outputId": "31ed7d01-c32a-4b08-ce04-8eb75827884a"
      },
      "outputs": [
        {
          "output_type": "stream",
          "name": "stdout",
          "text": [
            "[[2.91030991e+00 4.19103164e+00 1.33864594e+01 ... 2.11809439e+00\n",
            "  6.22412363e+00 4.08790713e+00]\n",
            " [3.22965732e+00 4.54938401e+00 1.42671480e+01 ... 2.14998338e+00\n",
            "  6.71216329e+00 4.89974478e+00]\n",
            " [8.97892095e+00 1.19674683e+01 2.95321223e+00 ... 1.00167645e+01\n",
            "  1.10286520e+01 1.35211215e+01]\n",
            " ...\n",
            " [5.57754706e+00 2.31275749e-03 1.03933889e+01 ... 1.60193585e+00\n",
            "  2.00048279e+00 5.31994636e-01]\n",
            " [9.94739735e-01 1.62908863e+00 7.50986086e+00 ... 1.69804454e+00\n",
            "  2.82036696e+00 1.37499573e+00]\n",
            " [4.53794897e+00 7.32678907e+00 1.34127666e+00 ... 5.12162050e+00\n",
            "  6.70028918e+00 1.09680708e+01]]\n"
          ]
        }
      ],
      "source": [
        "P0 = np.random.uniform(-10, 10, (10,2))\n",
        "P1 = np.random.uniform(-10,10,(10,2))\n",
        "p = np.random.uniform(-10, 10, (10,2))\n",
        "print(np.array([distance(P0,P1,p_i) for p_i in p]))"
      ]
    },
    {
      "cell_type": "markdown",
      "metadata": {
        "id": "kAQ0mtobuFI0"
      },
      "source": [
        "#### 80. Consider an arbitrary array, write a function that extract a subpart with a fixed shape and centered on a given element (pad with a `fill` value when necessary) (★★★) \n",
        "(**hint**: minimum, maximum)"
      ]
    },
    {
      "cell_type": "code",
      "execution_count": null,
      "metadata": {
        "id": "TRLLAS9ouFI1"
      },
      "outputs": [],
      "source": [
        "Z = np.random.randint(0,10,(10,10))\n",
        "shape = (5,5)\n",
        "fill  = 0\n",
        "position = (1,1)\n",
        "\n",
        "R = np.ones(shape, dtype=Z.dtype)*fill\n",
        "P  = np.array(list(position)).astype(int)\n",
        "Rs = np.array(list(R.shape)).astype(int)\n",
        "Zs = np.array(list(Z.shape)).astype(int)\n",
        "\n",
        "R_start = np.zeros((len(shape),)).astype(int)\n",
        "R_stop  = np.array(list(shape)).astype(int)\n",
        "Z_start = (P-Rs//2)\n",
        "Z_stop  = (P+Rs//2)+Rs%2\n",
        "\n",
        "R_start = (R_start - np.minimum(Z_start,0)).tolist()\n",
        "Z_start = (np.maximum(Z_start,0)).tolist()\n",
        "R_stop = np.maximum(R_start, (R_stop - np.maximum(Z_stop-Zs,0))).tolist()\n",
        "Z_stop = (np.minimum(Z_stop,Zs)).tolist()\n",
        "\n",
        "r = [slice(start,stop) for start,stop in zip(R_start,R_stop)]\n",
        "z = [slice(start,stop) for start,stop in zip(Z_start,Z_stop)]\n",
        "R[r] = Z[z]\n",
        "print(Z)\n",
        "print(R)"
      ]
    },
    {
      "cell_type": "markdown",
      "metadata": {
        "id": "6qi_4yewuFI1"
      },
      "source": [
        "#### 81. Consider an array Z = \\[1,2,3,4,5,6,7,8,9,10,11,12,13,14\\], how to generate an array R = \\[\\[1,2,3,4\\], \\[2,3,4,5\\], \\[3,4,5,6\\], ..., \\[11,12,13,14\\]\\]? (★★★) \n",
        "(**hint**: stride\\_tricks.as\\_strided)"
      ]
    },
    {
      "cell_type": "code",
      "execution_count": 281,
      "metadata": {
        "id": "hDjnbYwPuFI1",
        "colab": {
          "base_uri": "https://localhost:8080/"
        },
        "outputId": "55b40d02-8a71-4199-a263-0052984b0c4f"
      },
      "outputs": [
        {
          "output_type": "stream",
          "name": "stdout",
          "text": [
            "[[ 1  2  3  4]\n",
            " [ 2  3  4  5]\n",
            " [ 3  4  5  6]\n",
            " ...\n",
            " [ 9 10 11 12]\n",
            " [10 11 12 13]\n",
            " [11 12 13 14]]\n"
          ]
        }
      ],
      "source": [
        "ap = np.arange(1,15,dtype=np.uint32)\n",
        "R = stride_tricks.as_strided(ap,(11,4),(4,4))\n",
        "print(R)"
      ]
    },
    {
      "cell_type": "markdown",
      "metadata": {
        "id": "42bQy2UiuFI1"
      },
      "source": [
        "#### 82. Compute a matrix rank (★★★) \n",
        "(**hint**: np.linalg.svd) (suggestion: np.linalg.svd)"
      ]
    },
    {
      "cell_type": "code",
      "execution_count": 287,
      "metadata": {
        "id": "nonkUVLIuFI1",
        "colab": {
          "base_uri": "https://localhost:8080/"
        },
        "outputId": "6e7325e2-ebd0-497f-c381-d2684b379bd2"
      },
      "outputs": [
        {
          "output_type": "stream",
          "name": "stdout",
          "text": [
            "12\n"
          ]
        }
      ],
      "source": [
        "ap = np.random.uniform(0,2,(17,12))\n",
        "U, S, V = np.linalg.svd(ap)                       # Singular Value Decomposition\n",
        "rank = np.sum(S > 1e-7)\n",
        "print(rank)"
      ]
    },
    {
      "cell_type": "markdown",
      "metadata": {
        "id": "mcZlixX1uFI1"
      },
      "source": [
        "#### 83. How to find the most frequent value in an array? \n",
        "(**hint**: np.bincount, argmax)"
      ]
    },
    {
      "cell_type": "code",
      "execution_count": 290,
      "metadata": {
        "id": "iIk77aGcuFI2",
        "colab": {
          "base_uri": "https://localhost:8080/"
        },
        "outputId": "98117903-e37a-49b9-81ac-3977fdb2374c"
      },
      "outputs": [
        {
          "output_type": "stream",
          "name": "stdout",
          "text": [
            "7\n"
          ]
        }
      ],
      "source": [
        "Z = np.random.randint(0,10,50)\n",
        "print(np.bincount(Z).argmax())"
      ]
    },
    {
      "cell_type": "markdown",
      "metadata": {
        "id": "kFfTHQJruFI2"
      },
      "source": [
        "#### 84. Extract all the contiguous 3x3 blocks from a random 10x10 matrix (★★★) \n",
        "(**hint**: stride\\_tricks.as\\_strided)"
      ]
    },
    {
      "cell_type": "code",
      "execution_count": 291,
      "metadata": {
        "id": "x7JjHzTluFI2",
        "colab": {
          "base_uri": "https://localhost:8080/"
        },
        "outputId": "04bda33f-2e85-4220-dc9b-d57d938fb16b"
      },
      "outputs": [
        {
          "output_type": "stream",
          "name": "stdout",
          "text": [
            "[[[[3 1 2]\n",
            "   [4 4 4]\n",
            "   [0 3 0]]\n",
            "\n",
            "  [[1 2 0]\n",
            "   [4 4 4]\n",
            "   [3 0 3]]\n",
            "\n",
            "  [[2 0 4]\n",
            "   [4 4 2]\n",
            "   [0 3 2]]\n",
            "\n",
            "  ...\n",
            "\n",
            "  [[2 0 3]\n",
            "   [4 1 4]\n",
            "   [3 4 0]]\n",
            "\n",
            "  [[0 3 0]\n",
            "   [1 4 4]\n",
            "   [4 0 3]]\n",
            "\n",
            "  [[3 0 1]\n",
            "   [4 4 2]\n",
            "   [0 3 0]]]\n",
            "\n",
            "\n",
            " [[[4 4 4]\n",
            "   [0 3 0]\n",
            "   [2 1 0]]\n",
            "\n",
            "  [[4 4 4]\n",
            "   [3 0 3]\n",
            "   [1 0 2]]\n",
            "\n",
            "  [[4 4 2]\n",
            "   [0 3 2]\n",
            "   [0 2 0]]\n",
            "\n",
            "  ...\n",
            "\n",
            "  [[4 1 4]\n",
            "   [3 4 0]\n",
            "   [0 0 3]]\n",
            "\n",
            "  [[1 4 4]\n",
            "   [4 0 3]\n",
            "   [0 3 0]]\n",
            "\n",
            "  [[4 4 2]\n",
            "   [0 3 0]\n",
            "   [3 0 0]]]\n",
            "\n",
            "\n",
            " [[[0 3 0]\n",
            "   [2 1 0]\n",
            "   [0 3 3]]\n",
            "\n",
            "  [[3 0 3]\n",
            "   [1 0 2]\n",
            "   [3 3 3]]\n",
            "\n",
            "  [[0 3 2]\n",
            "   [0 2 0]\n",
            "   [3 3 3]]\n",
            "\n",
            "  ...\n",
            "\n",
            "  [[3 4 0]\n",
            "   [0 0 3]\n",
            "   [1 3 3]]\n",
            "\n",
            "  [[4 0 3]\n",
            "   [0 3 0]\n",
            "   [3 3 2]]\n",
            "\n",
            "  [[0 3 0]\n",
            "   [3 0 0]\n",
            "   [3 2 2]]]\n",
            "\n",
            "\n",
            " ...\n",
            "\n",
            "\n",
            " [[[3 4 1]\n",
            "   [4 0 0]\n",
            "   [1 3 3]]\n",
            "\n",
            "  [[4 1 0]\n",
            "   [0 0 3]\n",
            "   [3 3 4]]\n",
            "\n",
            "  [[1 0 0]\n",
            "   [0 3 2]\n",
            "   [3 4 4]]\n",
            "\n",
            "  ...\n",
            "\n",
            "  [[0 3 2]\n",
            "   [0 3 1]\n",
            "   [4 1 2]]\n",
            "\n",
            "  [[3 2 0]\n",
            "   [3 1 1]\n",
            "   [1 2 2]]\n",
            "\n",
            "  [[2 0 2]\n",
            "   [1 1 2]\n",
            "   [2 2 0]]]\n",
            "\n",
            "\n",
            " [[[4 0 0]\n",
            "   [1 3 3]\n",
            "   [1 3 2]]\n",
            "\n",
            "  [[0 0 3]\n",
            "   [3 3 4]\n",
            "   [3 2 1]]\n",
            "\n",
            "  [[0 3 2]\n",
            "   [3 4 4]\n",
            "   [2 1 2]]\n",
            "\n",
            "  ...\n",
            "\n",
            "  [[0 3 1]\n",
            "   [4 1 2]\n",
            "   [4 3 0]]\n",
            "\n",
            "  [[3 1 1]\n",
            "   [1 2 2]\n",
            "   [3 0 4]]\n",
            "\n",
            "  [[1 1 2]\n",
            "   [2 2 0]\n",
            "   [0 4 3]]]\n",
            "\n",
            "\n",
            " [[[1 3 3]\n",
            "   [1 3 2]\n",
            "   [1 2 1]]\n",
            "\n",
            "  [[3 3 4]\n",
            "   [3 2 1]\n",
            "   [2 1 3]]\n",
            "\n",
            "  [[3 4 4]\n",
            "   [2 1 2]\n",
            "   [1 3 0]]\n",
            "\n",
            "  ...\n",
            "\n",
            "  [[4 1 2]\n",
            "   [4 3 0]\n",
            "   [0 2 4]]\n",
            "\n",
            "  [[1 2 2]\n",
            "   [3 0 4]\n",
            "   [2 4 2]]\n",
            "\n",
            "  [[2 2 0]\n",
            "   [0 4 3]\n",
            "   [4 2 4]]]]\n"
          ]
        }
      ],
      "source": [
        "Z = np.random.randint(0,5,(10,10))\n",
        "n = 3\n",
        "i = 1 + (Z.shape[0]-3)\n",
        "j = 1 + (Z.shape[1]-3)\n",
        "C = stride_tricks.as_strided(Z, shape=(i, j, n, n), strides=Z.strides + Z.strides)\n",
        "print(C)"
      ]
    },
    {
      "cell_type": "markdown",
      "metadata": {
        "id": "StYA-DOYuFI2"
      },
      "source": [
        "#### 85. Create a 2D array subclass such that Z\\[i,j\\] == Z\\[j,i\\] (★★★) \n",
        "(**hint**: class method)"
      ]
    },
    {
      "cell_type": "code",
      "execution_count": 294,
      "metadata": {
        "id": "-DvUF0tZuFI2",
        "colab": {
          "base_uri": "https://localhost:8080/"
        },
        "outputId": "c57499ef-0aaf-4a54-df8f-c5a051104f2f"
      },
      "outputs": [
        {
          "output_type": "stream",
          "name": "stdout",
          "text": [
            "[[ 5  8 12  8  5]\n",
            " [ 8  3  8 11  9]\n",
            " [12  8  5 42 10]\n",
            " [ 8 11 42  4  5]\n",
            " [ 5  9 10  5  9]]\n"
          ]
        }
      ],
      "source": [
        "class Symetric(np.ndarray):\n",
        "    def __setitem__(self, index, value):\n",
        "        i,j = index\n",
        "        super(Symetric, self).__setitem__((i,j), value)\n",
        "        super(Symetric, self).__setitem__((j,i), value)\n",
        "\n",
        "def symetric(Z):\n",
        "    return np.asarray(Z + Z.T - np.diag(Z.diagonal())).view(Symetric)\n",
        "\n",
        "S = symetric(np.random.randint(0,10,(5,5)))\n",
        "S[2,3] = 42\n",
        "print(S)"
      ]
    },
    {
      "cell_type": "markdown",
      "metadata": {
        "id": "rN7oDfRAuFI2"
      },
      "source": [
        "#### 86. Consider a set of p matrices wich shape (n,n) and a set of p vectors with shape (n,1). How to compute the sum of of the p matrix products at once? (result has shape (n,1)) (★★★) \n",
        "(**hint**: np.tensordot)"
      ]
    },
    {
      "cell_type": "code",
      "execution_count": 297,
      "metadata": {
        "id": "A74qOJFQuFI2",
        "colab": {
          "base_uri": "https://localhost:8080/"
        },
        "outputId": "ea91934a-fc3f-4a15-aa0f-17022323974e"
      },
      "outputs": [
        {
          "output_type": "stream",
          "name": "stdout",
          "text": [
            "[[200.]\n",
            " [200.]\n",
            " [200.]\n",
            " ...\n",
            " [200.]\n",
            " [200.]\n",
            " [200.]]\n"
          ]
        }
      ],
      "source": [
        "p, n = 10, 20\n",
        "M = np.ones((p,n,n))\n",
        "V = np.ones((p,n,1))\n",
        "S = np.tensordot(M, V, axes=[[0, 2], [0, 1]])\n",
        "print(S)\n"
      ]
    },
    {
      "cell_type": "markdown",
      "metadata": {
        "id": "VBP8dFI_uFI2"
      },
      "source": [
        "#### 87. Consider a 16x16 array, how to get the block-sum (block size is 4x4)? (★★★) \n",
        "(**hint**: np.add.reduceat)"
      ]
    },
    {
      "cell_type": "code",
      "execution_count": 301,
      "metadata": {
        "id": "yJLOKsqKuFI2",
        "colab": {
          "base_uri": "https://localhost:8080/"
        },
        "outputId": "3560ae1a-b1b1-459f-cdeb-c04f5553e9be"
      },
      "outputs": [
        {
          "output_type": "stream",
          "name": "stdout",
          "text": [
            "[[16. 16. 16. 16. 12.]\n",
            " [16. 16. 16. 16. 12.]\n",
            " [16. 16. 16. 16. 12.]\n",
            " [16. 16. 16. 16. 12.]\n",
            " [12. 12. 12. 12.  9.]]\n"
          ]
        }
      ],
      "source": [
        "Z = np.ones((19,19))\n",
        "k = 4\n",
        "S = np.add.reduceat(np.add.reduceat(Z, np.arange(0, Z.shape[0], k), axis=0),\n",
        "                                       np.arange(0, Z.shape[1], k), axis=1)\n",
        "print(S)"
      ]
    },
    {
      "cell_type": "markdown",
      "metadata": {
        "id": "r7Mb8qu_uFI2"
      },
      "source": [
        "#### 88. How to implement the Game of Life using numpy arrays? (★★★)"
      ]
    },
    {
      "cell_type": "code",
      "execution_count": 303,
      "metadata": {
        "id": "s6oh3w15uFI2",
        "colab": {
          "base_uri": "https://localhost:8080/"
        },
        "outputId": "92a7c66f-c438-4945-fb3b-bfed8bf57f0e"
      },
      "outputs": [
        {
          "output_type": "stream",
          "name": "stdout",
          "text": [
            "[[0 0 0 ... 0 0 0]\n",
            " [0 0 0 ... 0 0 0]\n",
            " [0 0 0 ... 0 0 0]\n",
            " ...\n",
            " [0 0 0 ... 0 0 0]\n",
            " [0 0 0 ... 0 0 0]\n",
            " [0 0 0 ... 0 0 0]]\n"
          ]
        }
      ],
      "source": [
        "def iterate(Z):\n",
        "    # Count neighbours\n",
        "    N = (Z[0:-2,0:-2] + Z[0:-2,1:-1] + Z[0:-2,2:] +\n",
        "         Z[1:-1,0:-2]                + Z[1:-1,2:] +\n",
        "         Z[2:  ,0:-2] + Z[2:  ,1:-1] + Z[2:  ,2:])\n",
        "\n",
        "    # Apply rules\n",
        "    birth = (N==3) & (Z[1:-1,1:-1]==0)\n",
        "    survive = ((N==2) | (N==3)) & (Z[1:-1,1:-1]==1)\n",
        "    Z[...] = 0\n",
        "    Z[1:-1,1:-1][birth | survive] = 1\n",
        "    return Z\n",
        "\n",
        "Z = np.random.randint(0,2,(50,50))\n",
        "for i in range(100): Z = iterate(Z)\n",
        "print(Z)"
      ]
    },
    {
      "cell_type": "markdown",
      "metadata": {
        "id": "y-eYhg1zuFI2"
      },
      "source": [
        "#### 89. How to get the n largest values of an array (★★★) \n",
        "(**hint**: np.argsort | np.argpartition)"
      ]
    },
    {
      "cell_type": "code",
      "execution_count": 307,
      "metadata": {
        "id": "SHQSQdMDuFI3",
        "colab": {
          "base_uri": "https://localhost:8080/"
        },
        "outputId": "cbd29256-41fa-45de-ef78-7052621f2985"
      },
      "outputs": [
        {
          "output_type": "stream",
          "name": "stdout",
          "text": [
            "[9995 9996 9997 9998 9999]\n",
            "[9998 9999 9997 9996 9995]\n"
          ]
        }
      ],
      "source": [
        "Z = np.arange(10000)\n",
        "np.random.shuffle(Z)\n",
        "n = 5\n",
        "# Slow\n",
        "print (Z[np.argsort(Z)[-n:]])\n",
        "# Fast\n",
        "print (Z[np.argpartition(-Z,n)[:n]])"
      ]
    },
    {
      "cell_type": "markdown",
      "metadata": {
        "id": "GjGJM_oauFI3"
      },
      "source": [
        "#### 90. Given an arbitrary number of vectors, build the cartesian product (every combinations of every item) (★★★) \n",
        "(**hint**: np.indices)"
      ]
    },
    {
      "cell_type": "code",
      "execution_count": 308,
      "metadata": {
        "scrolled": true,
        "id": "J0jFM3o4uFI3",
        "colab": {
          "base_uri": "https://localhost:8080/"
        },
        "outputId": "6ecb4c1d-0db4-4339-a7d6-07a5f9dbe45d"
      },
      "outputs": [
        {
          "output_type": "stream",
          "name": "stdout",
          "text": [
            "[[1 4 6]\n",
            " [1 4 7]\n",
            " [1 5 6]\n",
            " ...\n",
            " [3 4 7]\n",
            " [3 5 6]\n",
            " [3 5 7]]\n"
          ]
        }
      ],
      "source": [
        "def cartesian(arrays):\n",
        "    arrays = [np.asarray(a) for a in arrays]\n",
        "    shape = (len(x) for x in arrays)\n",
        "\n",
        "    ix = np.indices(shape, dtype=int)\n",
        "    ix = ix.reshape(len(arrays), -1).T\n",
        "\n",
        "    for n, arr in enumerate(arrays):\n",
        "        ix[:, n] = arrays[n][ix[:, n]]\n",
        "\n",
        "    return ix\n",
        "\n",
        "print (cartesian(([1, 2, 3], [4, 5], [6, 7])))"
      ]
    },
    {
      "cell_type": "markdown",
      "metadata": {
        "id": "WDFezWyIuFI3"
      },
      "source": [
        "#### 91. How to create a record array from a regular array? (★★★) \n",
        "(**hint**: np.core.records.fromarrays)"
      ]
    },
    {
      "cell_type": "code",
      "execution_count": 315,
      "metadata": {
        "id": "gEvghOGsuFI3",
        "colab": {
          "base_uri": "https://localhost:8080/"
        },
        "outputId": "7999a059-0a9a-4585-fba9-7f88a6a21406"
      },
      "outputs": [
        {
          "output_type": "stream",
          "name": "stdout",
          "text": [
            "[(b'Hello', 2.5, 3) (b'World', 3.6, 2)]\n"
          ]
        }
      ],
      "source": [
        "ap = np.array([(\"Hello\", 2.5, 3),\n",
        "              (\"World\", 3.6, 2)])\n",
        "R = np.core.records.fromarrays(ap.T, \n",
        "                               names='col1, col2, col3',\n",
        "                               formats = 'S8, f8, i8')\n",
        "print(R)"
      ]
    },
    {
      "cell_type": "markdown",
      "metadata": {
        "id": "VRV6l-F8uFI3"
      },
      "source": [
        "#### 92. Consider a large vector Z, compute Z to the power of 3 using 3 different methods (★★★) \n",
        "(**hint**: np.power, \\*, np.einsum)"
      ]
    },
    {
      "cell_type": "code",
      "execution_count": 316,
      "metadata": {
        "id": "5ir-AvADuFI3",
        "colab": {
          "base_uri": "https://localhost:8080/"
        },
        "outputId": "aeb2b062-7294-4472-d012-c96c72e1f63c"
      },
      "outputs": [
        {
          "output_type": "stream",
          "name": "stdout",
          "text": [
            "4.02 s ± 333 ms per loop (mean ± std. dev. of 7 runs, 1 loop each)\n",
            "197 ms ± 1.63 ms per loop (mean ± std. dev. of 7 runs, 10 loops each)\n",
            "180 ms ± 1.17 ms per loop (mean ± std. dev. of 7 runs, 10 loops each)\n"
          ]
        }
      ],
      "source": [
        "x = np.random.rand(int(5e7))\n",
        "%timeit np.power(x,3)\n",
        "%timeit x*x*x\n",
        "%timeit np.einsum('i,i,i->i',x,x,x)"
      ]
    },
    {
      "cell_type": "markdown",
      "metadata": {
        "id": "WcSpKTIwuFI3"
      },
      "source": [
        "#### 93. Consider two arrays A and B of shape (8,3) and (2,2). How to find rows of A that contain elements of each row of B regardless of the order of the elements in B? (★★★) \n",
        "(**hint**: np.where)"
      ]
    },
    {
      "cell_type": "code",
      "execution_count": 317,
      "metadata": {
        "id": "CkeSx_7UuFI3",
        "colab": {
          "base_uri": "https://localhost:8080/"
        },
        "outputId": "6832728a-e714-43bf-a8c6-01e2c114b750"
      },
      "outputs": [
        {
          "output_type": "stream",
          "name": "stdout",
          "text": [
            "[2 7]\n"
          ]
        }
      ],
      "source": [
        "A = np.random.randint(0,5,(8,3))\n",
        "B = np.random.randint(0,5,(2,2))\n",
        "\n",
        "C = (A[..., np.newaxis, np.newaxis] == B)\n",
        "rows = np.where(C.any((3,1)).all(1))[0]\n",
        "print(rows)"
      ]
    },
    {
      "cell_type": "markdown",
      "metadata": {
        "id": "qK-SK_AEuFI3"
      },
      "source": [
        "#### 94. Considering a 10x3 matrix, extract rows with unequal values (e.g. \\[2,2,3\\]) (★★★)"
      ]
    },
    {
      "cell_type": "code",
      "execution_count": 319,
      "metadata": {
        "id": "lDUaXyLiuFI3",
        "colab": {
          "base_uri": "https://localhost:8080/"
        },
        "outputId": "e04eeb1c-dade-4b4b-95f1-4492c19056d9"
      },
      "outputs": [
        {
          "output_type": "stream",
          "name": "stdout",
          "text": [
            "[[4 3 4]\n",
            " [0 0 4]\n",
            " [3 2 4]\n",
            " ...\n",
            " [4 4 4]\n",
            " [0 2 4]\n",
            " [1 2 3]]\n",
            "[[4 3 4]\n",
            " [0 0 4]\n",
            " [3 2 4]\n",
            " ...\n",
            " [4 0 4]\n",
            " [0 2 4]\n",
            " [1 2 3]]\n"
          ]
        }
      ],
      "source": [
        "ap = np.random.randint(0,5,(10,3))\n",
        "print(ap)\n",
        "U = ap[~(ap[:,0,None]==ap[:,1:]).all(axis=1)]\n",
        "print(U)"
      ]
    },
    {
      "cell_type": "markdown",
      "metadata": {
        "id": "BP9EHG7buFI3"
      },
      "source": [
        "#### 95. Convert a vector of ints into a matrix binary representation (★★★) \n",
        "(**hint**: np.unpackbits)"
      ]
    },
    {
      "cell_type": "code",
      "execution_count": 320,
      "metadata": {
        "id": "pkCzE1cguFI3",
        "colab": {
          "base_uri": "https://localhost:8080/"
        },
        "outputId": "600231bf-11e1-4408-b979-a5a37cc89265"
      },
      "outputs": [
        {
          "output_type": "stream",
          "name": "stdout",
          "text": [
            "[[0 0 0 ... 0 0 0]\n",
            " [0 0 0 ... 0 0 1]\n",
            " [0 0 0 ... 0 1 0]\n",
            " ...\n",
            " [0 0 1 ... 0 0 0]\n",
            " [0 1 0 ... 0 0 0]\n",
            " [1 0 0 ... 0 0 0]]\n"
          ]
        }
      ],
      "source": [
        "I = np.array([0, 1, 2, 3, 15, 16, 32, 64, 128])\n",
        "B = ((I.reshape(-1,1) & (2**np.arange(8))) != 0).astype(int)\n",
        "print(B[:,::-1])"
      ]
    },
    {
      "cell_type": "markdown",
      "metadata": {
        "id": "MAqtwsFDuFI3"
      },
      "source": [
        "#### 96. Given a two dimensional array, how to extract unique rows? (★★★) \n",
        "(**hint**: np.ascontiguousarray)"
      ]
    },
    {
      "cell_type": "code",
      "execution_count": 325,
      "metadata": {
        "id": "KSQf4-yTuFI4",
        "colab": {
          "base_uri": "https://localhost:8080/"
        },
        "outputId": "3c0baac4-f55f-43ce-90eb-cbb9ac055082"
      },
      "outputs": [
        {
          "output_type": "stream",
          "name": "stdout",
          "text": [
            "[[0 0 0]\n",
            " [0 0 1]\n",
            " [0 1 0]\n",
            " [1 1 1]]\n"
          ]
        }
      ],
      "source": [
        "Z = np.random.randint(0,2,(6,3))\n",
        "T = np.ascontiguousarray(Z).view(np.dtype((np.void, Z.dtype.itemsize * Z.shape[1])))\n",
        "_, idx = np.unique(T, return_index=True)\n",
        "uZ = Z[idx]\n",
        "print(uZ)"
      ]
    },
    {
      "cell_type": "markdown",
      "metadata": {
        "id": "MDSixbQDuFI4"
      },
      "source": [
        "#### 97. Considering 2 vectors A & B, write the einsum equivalent of inner, outer, sum, and mul function (★★★) \n",
        "(**hint**: np.einsum)"
      ]
    },
    {
      "cell_type": "code",
      "execution_count": 327,
      "metadata": {
        "id": "ZqdZ4kGkuFI4",
        "colab": {
          "base_uri": "https://localhost:8080/"
        },
        "outputId": "1dccbef5-231b-4c92-f9d1-f52be7bae3ff"
      },
      "outputs": [
        {
          "output_type": "execute_result",
          "data": {
            "text/plain": [
              "array([[0.05219378, 0.42423672, 0.35913509, ..., 0.1736704 , 0.48849816,\n",
              "        0.27493336],\n",
              "       [0.03048506, 0.24778586, 0.20976166, ..., 0.10143645, 0.28531933,\n",
              "        0.16058157],\n",
              "       [0.04527983, 0.36803939, 0.31156157, ..., 0.15066481, 0.42378831,\n",
              "        0.23851378],\n",
              "       ...,\n",
              "       [0.07756919, 0.63049081, 0.53373827, ..., 0.25810493, 0.72599467,\n",
              "        0.4085996 ],\n",
              "       [0.03497637, 0.28429175, 0.24066551, ..., 0.11638092, 0.32735497,\n",
              "        0.18423979],\n",
              "       [0.00951149, 0.07731042, 0.06544668, ..., 0.03164868, 0.08902104,\n",
              "        0.05010225]])"
            ]
          },
          "metadata": {},
          "execution_count": 327
        }
      ],
      "source": [
        "A = np.random.uniform(0,1,10)\n",
        "B = np.random.uniform(0,1,10)\n",
        "\n",
        "np.einsum('i->', A)       # np.sum(A)\n",
        "np.einsum('i,i->i', A, B) # A * B\n",
        "np.einsum('i,i', A, B)    # np.inner(A, B)\n",
        "np.einsum('i,j->ij', A, B)    # np.outer(A, B)"
      ]
    },
    {
      "cell_type": "markdown",
      "metadata": {
        "id": "OxuHPow9uFI4"
      },
      "source": [
        "#### 98. Considering a path described by two vectors (X,Y), how to sample it using equidistant samples (★★★)? \n",
        "(**hint**: np.cumsum, np.interp)"
      ]
    },
    {
      "cell_type": "code",
      "execution_count": 334,
      "metadata": {
        "collapsed": true,
        "id": "ZKJTnpKUuFI4",
        "colab": {
          "base_uri": "https://localhost:8080/"
        },
        "outputId": "60927024-3fac-4eed-83ab-a2ba35025658"
      },
      "outputs": [
        {
          "output_type": "stream",
          "name": "stdout",
          "text": [
            "[  0.           2.48788858   4.97577716 ... 490.11405003 492.60193861\n",
            " 495.08982719]\n",
            "[ 0.         -0.37313123 -2.59817608 ... 30.72807504 31.15312186\n",
            " 31.39601771]\n",
            "[ 0.          1.74026724  0.98181658 ... -5.42495146 -2.97607515\n",
            " -0.50007209]\n"
          ]
        }
      ],
      "source": [
        "ap1 = np.arange(0, 10*np.pi, 0.1)\n",
        "a = 1\n",
        "x = a*ap1*np.cos(ap1)\n",
        "y = a*ap1*np.sin(ap1)\n",
        "\n",
        "dr = (np.diff(x)**2 + np.diff(y)**2)**.5        # segment lengths\n",
        "r = np.zeros_like(x)\n",
        "r[1:] = np.cumsum(dr)                           # integrate path\n",
        "r_int = np.linspace(0, r.max(), 200)            # regular spaced path\n",
        "x_int = np.interp(r_int, r, x)                  # integrate path\n",
        "y_int = np.interp(r_int, r, y)\n",
        "print(r_int)\n",
        "print(x_int)\n",
        "print(y_int)"
      ]
    },
    {
      "cell_type": "markdown",
      "metadata": {
        "id": "PwSQ-n94uFI4"
      },
      "source": [
        "#### 99. Given an integer n and a 2D array X, select from X the rows which can be interpreted as draws from a multinomial distribution with n degrees, i.e., the rows which only contain integers and which sum to n. (★★★) \n",
        "(**hint**: np.logical\\_and.reduce, np.mod)"
      ]
    },
    {
      "cell_type": "code",
      "execution_count": 335,
      "metadata": {
        "id": "bw2R8u0FuFI4",
        "colab": {
          "base_uri": "https://localhost:8080/"
        },
        "outputId": "ae0f2505-62eb-4e5a-c5b7-f54f091110a5"
      },
      "outputs": [
        {
          "output_type": "stream",
          "name": "stdout",
          "text": [
            "[[2. 0. 1. 1.]]\n"
          ]
        }
      ],
      "source": [
        "X = np.asarray([[1.0, 0.0, 3.0, 8.0],\n",
        "                [2.0, 0.0, 1.0, 1.0],\n",
        "                [1.5, 2.5, 1.0, 0.0]])\n",
        "n = 4\n",
        "M = np.logical_and.reduce(np.mod(X, 1) == 0, axis=-1)\n",
        "M &= (X.sum(axis=-1) == n)\n",
        "print(X[M])"
      ]
    },
    {
      "cell_type": "markdown",
      "metadata": {
        "id": "loUwdMoIuFI4"
      },
      "source": [
        "#### 100. Compute bootstrapped 95% confidence intervals for the mean of a 1D array X (i.e., resample the elements of an array with replacement N times, compute the mean of each sample, and then compute percentiles over the means). (★★★) \n",
        "(**hint**: np.percentile)"
      ]
    },
    {
      "cell_type": "code",
      "execution_count": 338,
      "metadata": {
        "id": "NsjgR4g6uFI4",
        "colab": {
          "base_uri": "https://localhost:8080/"
        },
        "outputId": "f4420032-ac65-4f18-e7dc-e428b8a74569"
      },
      "outputs": [
        {
          "output_type": "stream",
          "name": "stdout",
          "text": [
            "[-0.36325867  0.02027129]\n"
          ]
        }
      ],
      "source": [
        "X = np.random.randn(100)                       # random 1D array\n",
        "N = 50000                                       # number of bootstrap samples\n",
        "idx = np.random.randint(0, X.size, (N, X.size))\n",
        "means = X[idx].mean(axis=1)\n",
        "confidence  = np.percentile(means, [2.5, 97.5])\n",
        "print(confidence )"
      ]
    }
  ],
  "metadata": {
    "kernelspec": {
      "display_name": "Python 3",
      "language": "python",
      "name": "python3"
    },
    "language_info": {
      "codemirror_mode": {
        "name": "ipython",
        "version": 3
      },
      "file_extension": ".py",
      "mimetype": "text/x-python",
      "name": "python",
      "nbconvert_exporter": "python",
      "pygments_lexer": "ipython3",
      "version": "3.8.3"
    },
    "colab": {
      "provenance": [],
      "collapsed_sections": []
    }
  },
  "nbformat": 4,
  "nbformat_minor": 0
}